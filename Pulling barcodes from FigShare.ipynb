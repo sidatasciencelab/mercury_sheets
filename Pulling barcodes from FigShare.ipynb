{
 "cells": [
  {
   "cell_type": "markdown",
   "metadata": {},
   "source": [
    "## Pulling barcodes from FigShare"
   ]
  },
  {
   "cell_type": "markdown",
   "metadata": {},
   "source": [
    "Attempting to grab data from scratch to replicate \"Applications of deep convolutional neural networks to digitized natural history collections\" (https://www.ncbi.nlm.nih.gov/pmc/articles/PMC5680669/)"
   ]
  },
  {
   "cell_type": "code",
   "execution_count": 1,
   "metadata": {
    "ExecuteTime": {
     "end_time": "2021-06-04T17:51:44.221119Z",
     "start_time": "2021-06-04T17:51:43.634672Z"
    }
   },
   "outputs": [],
   "source": [
    "import tarfile\n",
    "import pandas as pd\n",
    "import numpy as np"
   ]
  },
  {
   "cell_type": "markdown",
   "metadata": {},
   "source": [
    "First, we need to download the image bundles from Figshare in order to get their image barcodes. They are posted separately by [stained](https://smithsonian.figshare.com/articles/dataset/Mercury-stained_botany_images_for_deep_learning/5423083) and [unstained](https://smithsonian.figshare.com/articles/dataset/Unstained_botany_images_for_deep_learning/5423098) datasets."
   ]
  },
  {
   "cell_type": "code",
   "execution_count": 2,
   "metadata": {
    "ExecuteTime": {
     "end_time": "2021-06-04T17:51:44.368710Z",
     "start_time": "2021-06-04T17:51:44.222754Z"
    }
   },
   "outputs": [
    {
     "name": "stdout",
     "output_type": "stream",
     "text": [
      "File ‘stained.tar.gz’ already there; not retrieving.\r\n"
     ]
    }
   ],
   "source": [
    "! wget -nc -O stained.tar.gz https://smithsonian.figshare.com/ndownloader/files/9355285"
   ]
  },
  {
   "cell_type": "code",
   "execution_count": 3,
   "metadata": {
    "ExecuteTime": {
     "end_time": "2021-06-04T17:51:48.211731Z",
     "start_time": "2021-06-04T17:51:44.371248Z"
    }
   },
   "outputs": [
    {
     "data": {
      "text/plain": [
       "['00000140', '00000162', '00000185', '00000209', '00000231']"
      ]
     },
     "execution_count": 3,
     "metadata": {},
     "output_type": "execute_result"
    }
   ],
   "source": [
    "stained_barcodes = []\n",
    "with tarfile.open(\"stained.tar.gz\", \"r:gz\") as tar:\n",
    "    for filename in tar.getnames():\n",
    "        if filename.endswith('.jpg'):\n",
    "            barcode = filename.split('/')[1].split('.')[0]\n",
    "            stained_barcodes.append(barcode)\n",
    "stained_barcodes[:5]"
   ]
  },
  {
   "cell_type": "code",
   "execution_count": 4,
   "metadata": {
    "ExecuteTime": {
     "end_time": "2021-06-04T17:52:20.727505Z",
     "start_time": "2021-06-04T17:51:48.213676Z"
    }
   },
   "outputs": [
    {
     "name": "stdout",
     "output_type": "stream",
     "text": [
      "--2021-06-04 13:51:48--  https://smithsonian.figshare.com/ndownloader/files/9355303\n",
      "Resolving smithsonian.figshare.com (smithsonian.figshare.com)... 99.80.170.16, 52.208.22.115\n",
      "Connecting to smithsonian.figshare.com (smithsonian.figshare.com)|99.80.170.16|:443... connected.\n",
      "HTTP request sent, awaiting response... 200 OK\n",
      "Length: 413485713 (394M) [binary/octet-stream]\n",
      "Saving to: ‘unstained.tar.gz’\n",
      "\n",
      "unstained.tar.gz    100%[===================>] 394.33M  12.8MB/s    in 32s     \n",
      "\n",
      "2021-06-04 13:52:20 (12.5 MB/s) - ‘unstained.tar.gz’ saved [413485713/413485713]\n",
      "\n"
     ]
    }
   ],
   "source": [
    "! wget -nc -O unstained.tar.gz https://smithsonian.figshare.com/ndownloader/files/9355303"
   ]
  },
  {
   "cell_type": "code",
   "execution_count": 5,
   "metadata": {
    "ExecuteTime": {
     "end_time": "2021-06-04T17:52:25.119050Z",
     "start_time": "2021-06-04T17:52:20.730887Z"
    }
   },
   "outputs": [
    {
     "data": {
      "text/plain": [
       "['00000001', '00000003', '00000015', '00000020', '00000021']"
      ]
     },
     "execution_count": 5,
     "metadata": {},
     "output_type": "execute_result"
    }
   ],
   "source": [
    "unstained_barcodes = []\n",
    "with tarfile.open(\"unstained.tar.gz\", \"r:gz\") as tar:\n",
    "    for filename in tar.getnames():\n",
    "        if filename.endswith('.jpg'):\n",
    "            barcode = filename.split('/')[1].split('.')[0]\n",
    "            unstained_barcodes.append(barcode)\n",
    "unstained_barcodes[:5]"
   ]
  },
  {
   "cell_type": "code",
   "execution_count": 6,
   "metadata": {
    "ExecuteTime": {
     "end_time": "2021-06-04T17:52:25.131999Z",
     "start_time": "2021-06-04T17:52:25.120279Z"
    }
   },
   "outputs": [
    {
     "data": {
      "text/html": [
       "<div>\n",
       "<style scoped>\n",
       "    .dataframe tbody tr th:only-of-type {\n",
       "        vertical-align: middle;\n",
       "    }\n",
       "\n",
       "    .dataframe tbody tr th {\n",
       "        vertical-align: top;\n",
       "    }\n",
       "\n",
       "    .dataframe thead th {\n",
       "        text-align: right;\n",
       "    }\n",
       "</style>\n",
       "<table border=\"1\" class=\"dataframe\">\n",
       "  <thead>\n",
       "    <tr style=\"text-align: right;\">\n",
       "      <th></th>\n",
       "      <th>barcode</th>\n",
       "      <th>stain_status</th>\n",
       "    </tr>\n",
       "  </thead>\n",
       "  <tbody>\n",
       "    <tr>\n",
       "      <th>0</th>\n",
       "      <td>00000140</td>\n",
       "      <td>stained</td>\n",
       "    </tr>\n",
       "    <tr>\n",
       "      <th>1</th>\n",
       "      <td>00000162</td>\n",
       "      <td>stained</td>\n",
       "    </tr>\n",
       "    <tr>\n",
       "      <th>2</th>\n",
       "      <td>00000185</td>\n",
       "      <td>stained</td>\n",
       "    </tr>\n",
       "    <tr>\n",
       "      <th>3</th>\n",
       "      <td>00000209</td>\n",
       "      <td>stained</td>\n",
       "    </tr>\n",
       "    <tr>\n",
       "      <th>4</th>\n",
       "      <td>00000231</td>\n",
       "      <td>stained</td>\n",
       "    </tr>\n",
       "  </tbody>\n",
       "</table>\n",
       "</div>"
      ],
      "text/plain": [
       "    barcode stain_status\n",
       "0  00000140      stained\n",
       "1  00000162      stained\n",
       "2  00000185      stained\n",
       "3  00000209      stained\n",
       "4  00000231      stained"
      ]
     },
     "execution_count": 6,
     "metadata": {},
     "output_type": "execute_result"
    }
   ],
   "source": [
    "stained_barcode_df = pd.DataFrame(stained_barcodes, columns=['barcode'])\n",
    "stained_barcode_df['stain_status'] = 'stained'\n",
    "stained_barcode_df.head()"
   ]
  },
  {
   "cell_type": "code",
   "execution_count": 7,
   "metadata": {
    "ExecuteTime": {
     "end_time": "2021-06-04T17:52:25.145455Z",
     "start_time": "2021-06-04T17:52:25.133211Z"
    }
   },
   "outputs": [
    {
     "data": {
      "text/html": [
       "<div>\n",
       "<style scoped>\n",
       "    .dataframe tbody tr th:only-of-type {\n",
       "        vertical-align: middle;\n",
       "    }\n",
       "\n",
       "    .dataframe tbody tr th {\n",
       "        vertical-align: top;\n",
       "    }\n",
       "\n",
       "    .dataframe thead th {\n",
       "        text-align: right;\n",
       "    }\n",
       "</style>\n",
       "<table border=\"1\" class=\"dataframe\">\n",
       "  <thead>\n",
       "    <tr style=\"text-align: right;\">\n",
       "      <th></th>\n",
       "      <th>barcode</th>\n",
       "      <th>stain_status</th>\n",
       "    </tr>\n",
       "  </thead>\n",
       "  <tbody>\n",
       "    <tr>\n",
       "      <th>0</th>\n",
       "      <td>00000001</td>\n",
       "      <td>unstained</td>\n",
       "    </tr>\n",
       "    <tr>\n",
       "      <th>1</th>\n",
       "      <td>00000003</td>\n",
       "      <td>unstained</td>\n",
       "    </tr>\n",
       "    <tr>\n",
       "      <th>2</th>\n",
       "      <td>00000015</td>\n",
       "      <td>unstained</td>\n",
       "    </tr>\n",
       "    <tr>\n",
       "      <th>3</th>\n",
       "      <td>00000020</td>\n",
       "      <td>unstained</td>\n",
       "    </tr>\n",
       "    <tr>\n",
       "      <th>4</th>\n",
       "      <td>00000021</td>\n",
       "      <td>unstained</td>\n",
       "    </tr>\n",
       "  </tbody>\n",
       "</table>\n",
       "</div>"
      ],
      "text/plain": [
       "    barcode stain_status\n",
       "0  00000001    unstained\n",
       "1  00000003    unstained\n",
       "2  00000015    unstained\n",
       "3  00000020    unstained\n",
       "4  00000021    unstained"
      ]
     },
     "execution_count": 7,
     "metadata": {},
     "output_type": "execute_result"
    }
   ],
   "source": [
    "unstained_barcode_df = pd.DataFrame(unstained_barcodes, columns=['barcode'])\n",
    "unstained_barcode_df['stain_status'] = 'unstained'\n",
    "unstained_barcode_df.head()"
   ]
  },
  {
   "cell_type": "code",
   "execution_count": 8,
   "metadata": {
    "ExecuteTime": {
     "end_time": "2021-06-04T17:52:25.158693Z",
     "start_time": "2021-06-04T17:52:25.147887Z"
    }
   },
   "outputs": [
    {
     "name": "stdout",
     "output_type": "stream",
     "text": [
      "<class 'pandas.core.frame.DataFrame'>\n",
      "Int64Index: 15553 entries, 0 to 7776\n",
      "Data columns (total 2 columns):\n",
      " #   Column        Non-Null Count  Dtype \n",
      "---  ------        --------------  ----- \n",
      " 0   barcode       15553 non-null  object\n",
      " 1   stain_status  15553 non-null  object\n",
      "dtypes: object(2)\n",
      "memory usage: 364.5+ KB\n"
     ]
    }
   ],
   "source": [
    "stain_status_df = pd.concat([stained_barcode_df, unstained_barcode_df])\n",
    "stain_status_df.info()"
   ]
  },
  {
   "cell_type": "code",
   "execution_count": 9,
   "metadata": {
    "ExecuteTime": {
     "end_time": "2021-06-04T17:52:25.168969Z",
     "start_time": "2021-06-04T17:52:25.160480Z"
    }
   },
   "outputs": [
    {
     "data": {
      "text/plain": [
       "unstained    7777\n",
       "stained      7776\n",
       "Name: stain_status, dtype: int64"
      ]
     },
     "execution_count": 9,
     "metadata": {},
     "output_type": "execute_result"
    }
   ],
   "source": [
    "stain_status_df['stain_status'].value_counts()"
   ]
  },
  {
   "cell_type": "code",
   "execution_count": 10,
   "metadata": {
    "ExecuteTime": {
     "end_time": "2021-06-04T17:52:25.592352Z",
     "start_time": "2021-06-04T17:52:25.170902Z"
    }
   },
   "outputs": [],
   "source": [
    "stain_status_df.to_csv('barcodes_from_figshare.tsv', index=False, sep='\\t')"
   ]
  },
  {
   "cell_type": "code",
   "execution_count": null,
   "metadata": {},
   "outputs": [],
   "source": []
  }
 ],
 "metadata": {
  "kernelspec": {
   "display_name": "Python 3",
   "language": "python",
   "name": "python3"
  },
  "language_info": {
   "codemirror_mode": {
    "name": "ipython",
    "version": 3
   },
   "file_extension": ".py",
   "mimetype": "text/x-python",
   "name": "python",
   "nbconvert_exporter": "python",
   "pygments_lexer": "ipython3",
   "version": "3.8.5"
  }
 },
 "nbformat": 4,
 "nbformat_minor": 4
}
