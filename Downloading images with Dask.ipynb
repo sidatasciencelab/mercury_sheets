{
 "cells": [
  {
   "cell_type": "code",
   "execution_count": 1,
   "metadata": {
    "ExecuteTime": {
     "end_time": "2021-07-19T17:55:50.807347Z",
     "start_time": "2021-07-19T17:55:49.591852Z"
    }
   },
   "outputs": [],
   "source": [
    "import pandas as pd\n",
    "import s3fs\n",
    "from PIL import Image\n",
    "import requests\n",
    "from io import BytesIO\n",
    "import time"
   ]
  },
  {
   "cell_type": "code",
   "execution_count": 2,
   "metadata": {
    "ExecuteTime": {
     "end_time": "2021-07-19T17:55:50.893488Z",
     "start_time": "2021-07-19T17:55:50.808804Z"
    }
   },
   "outputs": [
    {
     "data": {
      "text/html": [
       "<div>\n",
       "<style scoped>\n",
       "    .dataframe tbody tr th:only-of-type {\n",
       "        vertical-align: middle;\n",
       "    }\n",
       "\n",
       "    .dataframe tbody tr th {\n",
       "        vertical-align: top;\n",
       "    }\n",
       "\n",
       "    .dataframe thead th {\n",
       "        text-align: right;\n",
       "    }\n",
       "</style>\n",
       "<table border=\"1\" class=\"dataframe\">\n",
       "  <thead>\n",
       "    <tr style=\"text-align: right;\">\n",
       "      <th></th>\n",
       "      <th>specimen_guid</th>\n",
       "      <th>media_guid</th>\n",
       "      <th>media_aws_id</th>\n",
       "      <th>edan_id</th>\n",
       "      <th>title</th>\n",
       "      <th>Barcode</th>\n",
       "      <th>ids_url</th>\n",
       "      <th>aws_url</th>\n",
       "    </tr>\n",
       "  </thead>\n",
       "  <tbody>\n",
       "    <tr>\n",
       "      <th>0</th>\n",
       "      <td>http://n2t.net/ark:/65665/308ccbb87-e433-4990-...</td>\n",
       "      <td>http://n2t.net/ark:/65665/m3df156c21-4708-4494...</td>\n",
       "      <td>NMNH-00068526-000001</td>\n",
       "      <td>edanmdm-nmnhbotany_2156056</td>\n",
       "      <td>Lecidea pringlei Tuck.</td>\n",
       "      <td>68526.0</td>\n",
       "      <td>https://ids.si.edu/ids/deliveryService/id/ark:...</td>\n",
       "      <td>https://smithsonian-open-access.s3.amazonaws.c...</td>\n",
       "    </tr>\n",
       "    <tr>\n",
       "      <th>1</th>\n",
       "      <td>http://n2t.net/ark:/65665/308ccbb87-e433-4990-...</td>\n",
       "      <td>http://n2t.net/ark:/65665/m3ad097f00-e2e3-4ec0...</td>\n",
       "      <td>NMNH-00068526_02</td>\n",
       "      <td>edanmdm-nmnhbotany_2156056</td>\n",
       "      <td>Lecidea pringlei Tuck.</td>\n",
       "      <td>68526.0</td>\n",
       "      <td>https://ids.si.edu/ids/deliveryService/id/ark:...</td>\n",
       "      <td>https://smithsonian-open-access.s3.amazonaws.c...</td>\n",
       "    </tr>\n",
       "    <tr>\n",
       "      <th>2</th>\n",
       "      <td>http://n2t.net/ark:/65665/308ccbb87-e433-4990-...</td>\n",
       "      <td>http://n2t.net/ark:/65665/m3519636b0-dcc3-4611...</td>\n",
       "      <td>NMNH-00068526_03</td>\n",
       "      <td>edanmdm-nmnhbotany_2156056</td>\n",
       "      <td>Lecidea pringlei Tuck.</td>\n",
       "      <td>68526.0</td>\n",
       "      <td>https://ids.si.edu/ids/deliveryService/id/ark:...</td>\n",
       "      <td>https://smithsonian-open-access.s3.amazonaws.c...</td>\n",
       "    </tr>\n",
       "    <tr>\n",
       "      <th>3</th>\n",
       "      <td>http://n2t.net/ark:/65665/308ccbb87-e433-4990-...</td>\n",
       "      <td>http://n2t.net/ark:/65665/m34c69630c-b03f-492e...</td>\n",
       "      <td>NMNH-00068526_04</td>\n",
       "      <td>edanmdm-nmnhbotany_2156056</td>\n",
       "      <td>Lecidea pringlei Tuck.</td>\n",
       "      <td>68526.0</td>\n",
       "      <td>https://ids.si.edu/ids/deliveryService/id/ark:...</td>\n",
       "      <td>https://smithsonian-open-access.s3.amazonaws.c...</td>\n",
       "    </tr>\n",
       "    <tr>\n",
       "      <th>4</th>\n",
       "      <td>http://n2t.net/ark:/65665/312dee4d6-214d-4c7e-...</td>\n",
       "      <td>http://n2t.net/ark:/65665/m30234ce16-3c30-418c...</td>\n",
       "      <td>NMNH-00068546-000001</td>\n",
       "      <td>edanmdm-nmnhbotany_2131846</td>\n",
       "      <td>Lecidella crystallina M. Wirth &amp; Vezda</td>\n",
       "      <td>68546.0</td>\n",
       "      <td>https://ids.si.edu/ids/deliveryService/id/ark:...</td>\n",
       "      <td>https://smithsonian-open-access.s3.amazonaws.c...</td>\n",
       "    </tr>\n",
       "  </tbody>\n",
       "</table>\n",
       "</div>"
      ],
      "text/plain": [
       "                                       specimen_guid  \\\n",
       "0  http://n2t.net/ark:/65665/308ccbb87-e433-4990-...   \n",
       "1  http://n2t.net/ark:/65665/308ccbb87-e433-4990-...   \n",
       "2  http://n2t.net/ark:/65665/308ccbb87-e433-4990-...   \n",
       "3  http://n2t.net/ark:/65665/308ccbb87-e433-4990-...   \n",
       "4  http://n2t.net/ark:/65665/312dee4d6-214d-4c7e-...   \n",
       "\n",
       "                                          media_guid          media_aws_id  \\\n",
       "0  http://n2t.net/ark:/65665/m3df156c21-4708-4494...  NMNH-00068526-000001   \n",
       "1  http://n2t.net/ark:/65665/m3ad097f00-e2e3-4ec0...      NMNH-00068526_02   \n",
       "2  http://n2t.net/ark:/65665/m3519636b0-dcc3-4611...      NMNH-00068526_03   \n",
       "3  http://n2t.net/ark:/65665/m34c69630c-b03f-492e...      NMNH-00068526_04   \n",
       "4  http://n2t.net/ark:/65665/m30234ce16-3c30-418c...  NMNH-00068546-000001   \n",
       "\n",
       "                      edan_id                                   title  \\\n",
       "0  edanmdm-nmnhbotany_2156056                  Lecidea pringlei Tuck.   \n",
       "1  edanmdm-nmnhbotany_2156056                  Lecidea pringlei Tuck.   \n",
       "2  edanmdm-nmnhbotany_2156056                  Lecidea pringlei Tuck.   \n",
       "3  edanmdm-nmnhbotany_2156056                  Lecidea pringlei Tuck.   \n",
       "4  edanmdm-nmnhbotany_2131846  Lecidella crystallina M. Wirth & Vezda   \n",
       "\n",
       "   Barcode                                            ids_url  \\\n",
       "0  68526.0  https://ids.si.edu/ids/deliveryService/id/ark:...   \n",
       "1  68526.0  https://ids.si.edu/ids/deliveryService/id/ark:...   \n",
       "2  68526.0  https://ids.si.edu/ids/deliveryService/id/ark:...   \n",
       "3  68526.0  https://ids.si.edu/ids/deliveryService/id/ark:...   \n",
       "4  68546.0  https://ids.si.edu/ids/deliveryService/id/ark:...   \n",
       "\n",
       "                                             aws_url  \n",
       "0  https://smithsonian-open-access.s3.amazonaws.c...  \n",
       "1  https://smithsonian-open-access.s3.amazonaws.c...  \n",
       "2  https://smithsonian-open-access.s3.amazonaws.c...  \n",
       "3  https://smithsonian-open-access.s3.amazonaws.c...  \n",
       "4  https://smithsonian-open-access.s3.amazonaws.c...  "
      ]
     },
     "execution_count": 2,
     "metadata": {},
     "output_type": "execute_result"
    }
   ],
   "source": [
    "multi = pd.read_csv('herbarium_multi.tsv', sep='\\t')\n",
    "multi.head()"
   ]
  },
  {
   "cell_type": "code",
   "execution_count": 3,
   "metadata": {
    "ExecuteTime": {
     "end_time": "2021-07-19T17:55:50.900315Z",
     "start_time": "2021-07-19T17:55:50.895211Z"
    }
   },
   "outputs": [
    {
     "data": {
      "text/plain": [
       "[{'specimen_guid': 'http://n2t.net/ark:/65665/308ccbb87-e433-4990-909e-300d712916c6',\n",
       "  'media_guid': 'http://n2t.net/ark:/65665/m3df156c21-4708-4494-b117-443c3c5a1d60',\n",
       "  'media_aws_id': 'NMNH-00068526-000001',\n",
       "  'edan_id': 'edanmdm-nmnhbotany_2156056',\n",
       "  'title': 'Lecidea pringlei Tuck.',\n",
       "  'Barcode': 68526.0,\n",
       "  'ids_url': 'https://ids.si.edu/ids/deliveryService/id/ark:/65665/m3df156c21-4708-4494-b117-443c3c5a1d60',\n",
       "  'aws_url': 'https://smithsonian-open-access.s3.amazonaws.com/media/nmnh/NMNH-00068526-000001.jpg'},\n",
       " {'specimen_guid': 'http://n2t.net/ark:/65665/308ccbb87-e433-4990-909e-300d712916c6',\n",
       "  'media_guid': 'http://n2t.net/ark:/65665/m3ad097f00-e2e3-4ec0-97ea-a1f079f0cde7',\n",
       "  'media_aws_id': 'NMNH-00068526_02',\n",
       "  'edan_id': 'edanmdm-nmnhbotany_2156056',\n",
       "  'title': 'Lecidea pringlei Tuck.',\n",
       "  'Barcode': 68526.0,\n",
       "  'ids_url': 'https://ids.si.edu/ids/deliveryService/id/ark:/65665/m3ad097f00-e2e3-4ec0-97ea-a1f079f0cde7',\n",
       "  'aws_url': 'https://smithsonian-open-access.s3.amazonaws.com/media/nmnh/NMNH-00068526_02.jpg'},\n",
       " {'specimen_guid': 'http://n2t.net/ark:/65665/308ccbb87-e433-4990-909e-300d712916c6',\n",
       "  'media_guid': 'http://n2t.net/ark:/65665/m3519636b0-dcc3-4611-8c49-161ba64ee169',\n",
       "  'media_aws_id': 'NMNH-00068526_03',\n",
       "  'edan_id': 'edanmdm-nmnhbotany_2156056',\n",
       "  'title': 'Lecidea pringlei Tuck.',\n",
       "  'Barcode': 68526.0,\n",
       "  'ids_url': 'https://ids.si.edu/ids/deliveryService/id/ark:/65665/m3519636b0-dcc3-4611-8c49-161ba64ee169',\n",
       "  'aws_url': 'https://smithsonian-open-access.s3.amazonaws.com/media/nmnh/NMNH-00068526_03.jpg'},\n",
       " {'specimen_guid': 'http://n2t.net/ark:/65665/308ccbb87-e433-4990-909e-300d712916c6',\n",
       "  'media_guid': 'http://n2t.net/ark:/65665/m34c69630c-b03f-492e-bb09-d4b6df92389b',\n",
       "  'media_aws_id': 'NMNH-00068526_04',\n",
       "  'edan_id': 'edanmdm-nmnhbotany_2156056',\n",
       "  'title': 'Lecidea pringlei Tuck.',\n",
       "  'Barcode': 68526.0,\n",
       "  'ids_url': 'https://ids.si.edu/ids/deliveryService/id/ark:/65665/m34c69630c-b03f-492e-bb09-d4b6df92389b',\n",
       "  'aws_url': 'https://smithsonian-open-access.s3.amazonaws.com/media/nmnh/NMNH-00068526_04.jpg'},\n",
       " {'specimen_guid': 'http://n2t.net/ark:/65665/312dee4d6-214d-4c7e-bc73-2914d4cc2c52',\n",
       "  'media_guid': 'http://n2t.net/ark:/65665/m30234ce16-3c30-418c-9f84-ec080bf19a25',\n",
       "  'media_aws_id': 'NMNH-00068546-000001',\n",
       "  'edan_id': 'edanmdm-nmnhbotany_2131846',\n",
       "  'title': 'Lecidella crystallina M. Wirth & Vezda',\n",
       "  'Barcode': 68546.0,\n",
       "  'ids_url': 'https://ids.si.edu/ids/deliveryService/id/ark:/65665/m30234ce16-3c30-418c-9f84-ec080bf19a25',\n",
       "  'aws_url': 'https://smithsonian-open-access.s3.amazonaws.com/media/nmnh/NMNH-00068546-000001.jpg'}]"
      ]
     },
     "execution_count": 3,
     "metadata": {},
     "output_type": "execute_result"
    }
   ],
   "source": [
    "multi.head().to_dict(orient='records')"
   ]
  },
  {
   "cell_type": "code",
   "execution_count": 4,
   "metadata": {
    "ExecuteTime": {
     "end_time": "2021-07-19T17:55:50.905136Z",
     "start_time": "2021-07-19T17:55:50.902009Z"
    }
   },
   "outputs": [],
   "source": [
    "multi_sample = multi.sample(100)"
   ]
  },
  {
   "cell_type": "code",
   "execution_count": 5,
   "metadata": {
    "ExecuteTime": {
     "end_time": "2021-07-19T17:55:50.911104Z",
     "start_time": "2021-07-19T17:55:50.906379Z"
    }
   },
   "outputs": [
    {
     "data": {
      "text/plain": [
       "['https://ids.si.edu/ids/deliveryService/id/ark:/65665/m3ee045841-14a2-49c2-a98e-252de35d0168',\n",
       " 'https://ids.si.edu/ids/deliveryService/id/ark:/65665/m3b17a666b-14e4-4b84-b5a5-1f04d11e6eb5',\n",
       " 'https://ids.si.edu/ids/deliveryService/id/ark:/65665/m339efe579-cf0a-4237-bbc4-4bb752083f11',\n",
       " 'https://ids.si.edu/ids/deliveryService/id/ark:/65665/m31445cac2-785b-4ecb-8693-de9161633d0b',\n",
       " 'https://ids.si.edu/ids/deliveryService/id/ark:/65665/m30aadd86d-a347-461a-a9d2-cfccc505c88d']"
      ]
     },
     "execution_count": 5,
     "metadata": {},
     "output_type": "execute_result"
    }
   ],
   "source": [
    "ids_sample = multi_sample['ids_url'].to_list()\n",
    "ids_sample[:5]"
   ]
  },
  {
   "cell_type": "code",
   "execution_count": 6,
   "metadata": {
    "ExecuteTime": {
     "end_time": "2021-07-19T17:55:50.919378Z",
     "start_time": "2021-07-19T17:55:50.913063Z"
    }
   },
   "outputs": [],
   "source": [
    "def ids_ark_resize(ids_url):\n",
    "    start_epoch = time.time()\n",
    "    one = time.perf_counter()\n",
    "    thumb_size = (500, 500)\n",
    "    ark_id = ids_url.split('/')[-1]\n",
    "    file_dest = f'thumbnails/{ark_id}.jpg'\n",
    "    response = requests.get(ids_url)\n",
    "    pil_image = Image.open(BytesIO(response.content))\n",
    "    two = time.perf_counter()\n",
    "    dl_time = two - one\n",
    "    pil_image.thumbnail(thumb_size)\n",
    "    pil_image.save(file_dest)\n",
    "    three = time.perf_counter()\n",
    "    resize_time = three - two\n",
    "    end_epoch = time.time()\n",
    "    return_dict = {'start_time':start_epoch,\n",
    "                   'end_time':end_epoch,\n",
    "                   'ids_url':ids_url,\n",
    "                   'download_time':dl_time,\n",
    "                   'resize_time':resize_time}\n",
    "    return return_dict"
   ]
  },
  {
   "cell_type": "code",
   "execution_count": 7,
   "metadata": {
    "ExecuteTime": {
     "end_time": "2021-07-19T17:55:53.914286Z",
     "start_time": "2021-07-19T17:55:50.921324Z"
    }
   },
   "outputs": [
    {
     "data": {
      "text/plain": [
       "{'start_time': 1626717350.922154,\n",
       " 'end_time': 1626717353.910401,\n",
       " 'ids_url': 'https://ids.si.edu/ids/deliveryService/id/ark:/65665/m3ee045841-14a2-49c2-a98e-252de35d0168',\n",
       " 'download_time': 2.7741603959999996,\n",
       " 'resize_time': 0.21401237700000042}"
      ]
     },
     "execution_count": 7,
     "metadata": {},
     "output_type": "execute_result"
    }
   ],
   "source": [
    "ids_ark_resize(ids_sample[0])"
   ]
  },
  {
   "cell_type": "code",
   "execution_count": 8,
   "metadata": {
    "ExecuteTime": {
     "end_time": "2021-07-19T17:55:54.300993Z",
     "start_time": "2021-07-19T17:55:53.916777Z"
    }
   },
   "outputs": [],
   "source": [
    "from dask.distributed import Client"
   ]
  },
  {
   "cell_type": "code",
   "execution_count": 9,
   "metadata": {
    "ExecuteTime": {
     "end_time": "2021-07-19T17:55:54.306638Z",
     "start_time": "2021-07-19T17:55:54.303549Z"
    }
   },
   "outputs": [
    {
     "name": "stdout",
     "output_type": "stream",
     "text": [
      "8\n"
     ]
    }
   ],
   "source": [
    "from dask.system import CPU_COUNT\n",
    "print(CPU_COUNT)"
   ]
  },
  {
   "cell_type": "code",
   "execution_count": 10,
   "metadata": {
    "ExecuteTime": {
     "end_time": "2021-07-19T17:55:55.934849Z",
     "start_time": "2021-07-19T17:55:54.308135Z"
    }
   },
   "outputs": [
    {
     "data": {
      "text/html": [
       "<table style=\"border: 2px solid white;\">\n",
       "<tr>\n",
       "<td style=\"vertical-align: top; border: 0px solid white\">\n",
       "<h3 style=\"text-align: left;\">Client</h3>\n",
       "<ul style=\"text-align: left; list-style: none; margin: 0; padding: 0;\">\n",
       "  <li><b>Scheduler: </b>tcp://127.0.0.1:52294</li>\n",
       "  <li><b>Dashboard: </b><a href='http://127.0.0.1:8787/status' target='_blank'>http://127.0.0.1:8787/status</a></li>\n",
       "</ul>\n",
       "</td>\n",
       "<td style=\"vertical-align: top; border: 0px solid white\">\n",
       "<h3 style=\"text-align: left;\">Cluster</h3>\n",
       "<ul style=\"text-align: left; list-style:none; margin: 0; padding: 0;\">\n",
       "  <li><b>Workers: </b>4</li>\n",
       "  <li><b>Cores: </b>8</li>\n",
       "  <li><b>Memory: </b>17.18 GB</li>\n",
       "</ul>\n",
       "</td>\n",
       "</tr>\n",
       "</table>"
      ],
      "text/plain": [
       "<Client: 'tcp://127.0.0.1:52294' processes=4 threads=8, memory=17.18 GB>"
      ]
     },
     "execution_count": 10,
     "metadata": {},
     "output_type": "execute_result"
    }
   ],
   "source": [
    "client = Client(threads_per_worker=2, n_workers=4)\n",
    "client"
   ]
  },
  {
   "cell_type": "code",
   "execution_count": 11,
   "metadata": {
    "ExecuteTime": {
     "end_time": "2021-07-19T17:56:58.456725Z",
     "start_time": "2021-07-19T17:55:55.936704Z"
    }
   },
   "outputs": [
    {
     "name": "stdout",
     "output_type": "stream",
     "text": [
      "62.534417951\n"
     ]
    }
   ],
   "source": [
    "start = time.perf_counter()\n",
    "futures = client.map(ids_ark_resize, ids_sample)\n",
    "results = client.gather(futures)\n",
    "end = time.perf_counter()\n",
    "print(end - start)"
   ]
  },
  {
   "cell_type": "code",
   "execution_count": 12,
   "metadata": {
    "ExecuteTime": {
     "end_time": "2021-07-19T17:56:58.462555Z",
     "start_time": "2021-07-19T17:56:58.458305Z"
    }
   },
   "outputs": [
    {
     "data": {
      "text/plain": [
       "[{'start_time': 1626717356.0487978,\n",
       "  'end_time': 1626717365.311648,\n",
       "  'ids_url': 'https://ids.si.edu/ids/deliveryService/id/ark:/65665/m3ee045841-14a2-49c2-a98e-252de35d0168',\n",
       "  'download_time': 9.032948833999999,\n",
       "  'resize_time': 0.22967505200000105},\n",
       " {'start_time': 1626717356.048924,\n",
       "  'end_time': 1626717357.4058812,\n",
       "  'ids_url': 'https://ids.si.edu/ids/deliveryService/id/ark:/65665/m3b17a666b-14e4-4b84-b5a5-1f04d11e6eb5',\n",
       "  'download_time': 1.280408829,\n",
       "  'resize_time': 0.07651394099999997},\n",
       " {'start_time': 1626717356.049388,\n",
       "  'end_time': 1626717367.260896,\n",
       "  'ids_url': 'https://ids.si.edu/ids/deliveryService/id/ark:/65665/m339efe579-cf0a-4237-bbc4-4bb752083f11',\n",
       "  'download_time': 10.985552605999999,\n",
       "  'resize_time': 0.22571964099999953},\n",
       " {'start_time': 1626717356.050747,\n",
       "  'end_time': 1626717357.724961,\n",
       "  'ids_url': 'https://ids.si.edu/ids/deliveryService/id/ark:/65665/m31445cac2-785b-4ecb-8693-de9161633d0b',\n",
       "  'download_time': 1.5840401549999998,\n",
       "  'resize_time': 0.09013194900000032},\n",
       " {'start_time': 1626717356.04942,\n",
       "  'end_time': 1626717366.594562,\n",
       "  'ids_url': 'https://ids.si.edu/ids/deliveryService/id/ark:/65665/m30aadd86d-a347-461a-a9d2-cfccc505c88d',\n",
       "  'download_time': 10.337460133999999,\n",
       "  'resize_time': 0.207423876}]"
      ]
     },
     "execution_count": 12,
     "metadata": {},
     "output_type": "execute_result"
    }
   ],
   "source": [
    "results[:5]"
   ]
  },
  {
   "cell_type": "code",
   "execution_count": 13,
   "metadata": {
    "ExecuteTime": {
     "end_time": "2021-07-19T17:56:58.476136Z",
     "start_time": "2021-07-19T17:56:58.464587Z"
    }
   },
   "outputs": [
    {
     "data": {
      "text/html": [
       "<div>\n",
       "<style scoped>\n",
       "    .dataframe tbody tr th:only-of-type {\n",
       "        vertical-align: middle;\n",
       "    }\n",
       "\n",
       "    .dataframe tbody tr th {\n",
       "        vertical-align: top;\n",
       "    }\n",
       "\n",
       "    .dataframe thead th {\n",
       "        text-align: right;\n",
       "    }\n",
       "</style>\n",
       "<table border=\"1\" class=\"dataframe\">\n",
       "  <thead>\n",
       "    <tr style=\"text-align: right;\">\n",
       "      <th></th>\n",
       "      <th>start_time</th>\n",
       "      <th>end_time</th>\n",
       "      <th>ids_url</th>\n",
       "      <th>download_time</th>\n",
       "      <th>resize_time</th>\n",
       "    </tr>\n",
       "  </thead>\n",
       "  <tbody>\n",
       "    <tr>\n",
       "      <th>0</th>\n",
       "      <td>1.626717e+09</td>\n",
       "      <td>1.626717e+09</td>\n",
       "      <td>https://ids.si.edu/ids/deliveryService/id/ark:...</td>\n",
       "      <td>9.032949</td>\n",
       "      <td>0.229675</td>\n",
       "    </tr>\n",
       "    <tr>\n",
       "      <th>1</th>\n",
       "      <td>1.626717e+09</td>\n",
       "      <td>1.626717e+09</td>\n",
       "      <td>https://ids.si.edu/ids/deliveryService/id/ark:...</td>\n",
       "      <td>1.280409</td>\n",
       "      <td>0.076514</td>\n",
       "    </tr>\n",
       "    <tr>\n",
       "      <th>2</th>\n",
       "      <td>1.626717e+09</td>\n",
       "      <td>1.626717e+09</td>\n",
       "      <td>https://ids.si.edu/ids/deliveryService/id/ark:...</td>\n",
       "      <td>10.985553</td>\n",
       "      <td>0.225720</td>\n",
       "    </tr>\n",
       "    <tr>\n",
       "      <th>3</th>\n",
       "      <td>1.626717e+09</td>\n",
       "      <td>1.626717e+09</td>\n",
       "      <td>https://ids.si.edu/ids/deliveryService/id/ark:...</td>\n",
       "      <td>1.584040</td>\n",
       "      <td>0.090132</td>\n",
       "    </tr>\n",
       "    <tr>\n",
       "      <th>4</th>\n",
       "      <td>1.626717e+09</td>\n",
       "      <td>1.626717e+09</td>\n",
       "      <td>https://ids.si.edu/ids/deliveryService/id/ark:...</td>\n",
       "      <td>10.337460</td>\n",
       "      <td>0.207424</td>\n",
       "    </tr>\n",
       "  </tbody>\n",
       "</table>\n",
       "</div>"
      ],
      "text/plain": [
       "     start_time      end_time  \\\n",
       "0  1.626717e+09  1.626717e+09   \n",
       "1  1.626717e+09  1.626717e+09   \n",
       "2  1.626717e+09  1.626717e+09   \n",
       "3  1.626717e+09  1.626717e+09   \n",
       "4  1.626717e+09  1.626717e+09   \n",
       "\n",
       "                                             ids_url  download_time  \\\n",
       "0  https://ids.si.edu/ids/deliveryService/id/ark:...       9.032949   \n",
       "1  https://ids.si.edu/ids/deliveryService/id/ark:...       1.280409   \n",
       "2  https://ids.si.edu/ids/deliveryService/id/ark:...      10.985553   \n",
       "3  https://ids.si.edu/ids/deliveryService/id/ark:...       1.584040   \n",
       "4  https://ids.si.edu/ids/deliveryService/id/ark:...      10.337460   \n",
       "\n",
       "   resize_time  \n",
       "0     0.229675  \n",
       "1     0.076514  \n",
       "2     0.225720  \n",
       "3     0.090132  \n",
       "4     0.207424  "
      ]
     },
     "execution_count": 13,
     "metadata": {},
     "output_type": "execute_result"
    }
   ],
   "source": [
    "results_df = pd.DataFrame(results)\n",
    "results_df.head()"
   ]
  },
  {
   "cell_type": "code",
   "execution_count": 14,
   "metadata": {
    "ExecuteTime": {
     "end_time": "2021-07-19T17:56:58.484418Z",
     "start_time": "2021-07-19T17:56:58.477709Z"
    }
   },
   "outputs": [
    {
     "data": {
      "text/plain": [
       "472.21361211500005"
      ]
     },
     "execution_count": 14,
     "metadata": {},
     "output_type": "execute_result"
    }
   ],
   "source": [
    "results_df['download_time'].sum()"
   ]
  },
  {
   "cell_type": "code",
   "execution_count": 15,
   "metadata": {
    "ExecuteTime": {
     "end_time": "2021-07-19T17:56:59.089006Z",
     "start_time": "2021-07-19T17:56:58.487368Z"
    }
   },
   "outputs": [
    {
     "data": {
      "text/plain": [
       "<AxesSubplot:ylabel='Frequency'>"
      ]
     },
     "execution_count": 15,
     "metadata": {},
     "output_type": "execute_result"
    },
    {
     "data": {
      "image/png": "[encoded data removed]",
      "text/plain": [
       "<Figure size 432x288 with 1 Axes>"
      ]
     },
     "metadata": {
      "needs_background": "light"
     },
     "output_type": "display_data"
    }
   ],
   "source": [
    "results_df['download_time'].plot.hist(bins=20)"
   ]
  },
  {
   "cell_type": "code",
   "execution_count": 29,
   "metadata": {
    "ExecuteTime": {
     "end_time": "2021-07-19T20:46:17.793232Z",
     "start_time": "2021-07-19T20:46:17.784818Z"
    }
   },
   "outputs": [],
   "source": [
    "def aws_download_thumbnail(aws_id):\n",
    "    start_epoch = time.time()\n",
    "    one = time.perf_counter()\n",
    "    thumb_size = (500, 500)\n",
    "    s3_url = f'smithsonian-open-access/media/nmnh/{aws_id}.jpg'\n",
    "    file_dest = f'thumbnails/{aws_id}.jpg'\n",
    "    one = time.perf_counter()\n",
    "    with fs.open(s3_url,'rb') as s3_image:\n",
    "        pil_image = Image.open(s3_image)\n",
    "        two = time.perf_counter()\n",
    "        dl_time = two - one\n",
    "        width, height = pil_image.size\n",
    "        pil_image.thumbnail(thumb_size)\n",
    "        three = time.perf_counter()\n",
    "        resize_time = three - two\n",
    "        pil_image.save(file_dest)\n",
    "    end_epoch = time.time()    \n",
    "    return_dict = {'start_time':start_epoch,\n",
    "                   'end_time':end_epoch,\n",
    "                   'aws_url':s3_url,\n",
    "                   'download_time':dl_time,\n",
    "                   'original_width':width,\n",
    "                   'original_heigh':height,\n",
    "                   'resize_time':resize_time}    \n",
    "    return return_dict"
   ]
  },
  {
   "cell_type": "code",
   "execution_count": 30,
   "metadata": {
    "ExecuteTime": {
     "end_time": "2021-07-19T20:46:21.323308Z",
     "start_time": "2021-07-19T20:46:21.315934Z"
    }
   },
   "outputs": [
    {
     "data": {
      "text/plain": [
       "['NMNH-00068517',\n",
       " 'NMNH-00068974_04',\n",
       " 'NMNH-00479433-000001',\n",
       " 'NMNH-00406200_04',\n",
       " 'NMNH-00068963']"
      ]
     },
     "execution_count": 30,
     "metadata": {},
     "output_type": "execute_result"
    }
   ],
   "source": [
    "aws_sample = multi_sample['media_aws_id'].to_list()\n",
    "aws_sample[:5]"
   ]
  },
  {
   "cell_type": "code",
   "execution_count": 18,
   "metadata": {
    "ExecuteTime": {
     "end_time": "2021-07-19T17:56:59.198623Z",
     "start_time": "2021-07-19T17:56:59.103118Z"
    }
   },
   "outputs": [],
   "source": [
    "fs = s3fs.S3FileSystem(anon=True)"
   ]
  },
  {
   "cell_type": "code",
   "execution_count": 31,
   "metadata": {
    "ExecuteTime": {
     "end_time": "2021-07-19T20:46:28.677848Z",
     "start_time": "2021-07-19T20:46:25.540054Z"
    }
   },
   "outputs": [
    {
     "data": {
      "text/plain": [
       "{'start_time': 1626727585.541698,\n",
       " 'end_time': 1626727588.675204,\n",
       " 'aws_url': 'smithsonian-open-access/media/nmnh/NMNH-00068517.jpg',\n",
       " 'download_time': 1.4813095610006712,\n",
       " 'original_width': 3960,\n",
       " 'original_heigh': 5020,\n",
       " 'resize_time': 1.6415932139989309}"
      ]
     },
     "execution_count": 31,
     "metadata": {},
     "output_type": "execute_result"
    }
   ],
   "source": [
    "aws_download_thumbnail(aws_sample[0])"
   ]
  },
  {
   "cell_type": "code",
   "execution_count": 20,
   "metadata": {
    "ExecuteTime": {
     "end_time": "2021-07-19T17:58:20.545577Z",
     "start_time": "2021-07-19T17:57:02.304513Z"
    }
   },
   "outputs": [
    {
     "name": "stdout",
     "output_type": "stream",
     "text": [
      "78.23628137300001\n"
     ]
    }
   ],
   "source": [
    "start = time.perf_counter()\n",
    "futures = client.map(aws_download_thumbnail, aws_sample)\n",
    "aws_results = client.gather(futures)\n",
    "end = time.perf_counter()\n",
    "print(end - start)"
   ]
  },
  {
   "cell_type": "code",
   "execution_count": 21,
   "metadata": {
    "ExecuteTime": {
     "end_time": "2021-07-19T17:58:20.557255Z",
     "start_time": "2021-07-19T17:58:20.547222Z"
    }
   },
   "outputs": [
    {
     "data": {
      "text/html": [
       "<div>\n",
       "<style scoped>\n",
       "    .dataframe tbody tr th:only-of-type {\n",
       "        vertical-align: middle;\n",
       "    }\n",
       "\n",
       "    .dataframe tbody tr th {\n",
       "        vertical-align: top;\n",
       "    }\n",
       "\n",
       "    .dataframe thead th {\n",
       "        text-align: right;\n",
       "    }\n",
       "</style>\n",
       "<table border=\"1\" class=\"dataframe\">\n",
       "  <thead>\n",
       "    <tr style=\"text-align: right;\">\n",
       "      <th></th>\n",
       "      <th>start_time</th>\n",
       "      <th>end_time</th>\n",
       "      <th>aws_url</th>\n",
       "      <th>download_time</th>\n",
       "      <th>resize_time</th>\n",
       "    </tr>\n",
       "  </thead>\n",
       "  <tbody>\n",
       "    <tr>\n",
       "      <th>0</th>\n",
       "      <td>1.626717e+09</td>\n",
       "      <td>1.626717e+09</td>\n",
       "      <td>smithsonian-open-access/media/nmnh/NMNH-000685...</td>\n",
       "      <td>6.593064</td>\n",
       "      <td>7.692269</td>\n",
       "    </tr>\n",
       "    <tr>\n",
       "      <th>1</th>\n",
       "      <td>1.626717e+09</td>\n",
       "      <td>1.626717e+09</td>\n",
       "      <td>smithsonian-open-access/media/nmnh/NMNH-000689...</td>\n",
       "      <td>5.969532</td>\n",
       "      <td>0.073981</td>\n",
       "    </tr>\n",
       "    <tr>\n",
       "      <th>2</th>\n",
       "      <td>1.626717e+09</td>\n",
       "      <td>1.626717e+09</td>\n",
       "      <td>smithsonian-open-access/media/nmnh/NMNH-004794...</td>\n",
       "      <td>6.564839</td>\n",
       "      <td>8.938944</td>\n",
       "    </tr>\n",
       "    <tr>\n",
       "      <th>3</th>\n",
       "      <td>1.626717e+09</td>\n",
       "      <td>1.626717e+09</td>\n",
       "      <td>smithsonian-open-access/media/nmnh/NMNH-004062...</td>\n",
       "      <td>5.719669</td>\n",
       "      <td>0.079559</td>\n",
       "    </tr>\n",
       "    <tr>\n",
       "      <th>4</th>\n",
       "      <td>1.626717e+09</td>\n",
       "      <td>1.626717e+09</td>\n",
       "      <td>smithsonian-open-access/media/nmnh/NMNH-000689...</td>\n",
       "      <td>5.997774</td>\n",
       "      <td>9.070885</td>\n",
       "    </tr>\n",
       "  </tbody>\n",
       "</table>\n",
       "</div>"
      ],
      "text/plain": [
       "     start_time      end_time  \\\n",
       "0  1.626717e+09  1.626717e+09   \n",
       "1  1.626717e+09  1.626717e+09   \n",
       "2  1.626717e+09  1.626717e+09   \n",
       "3  1.626717e+09  1.626717e+09   \n",
       "4  1.626717e+09  1.626717e+09   \n",
       "\n",
       "                                             aws_url  download_time  \\\n",
       "0  smithsonian-open-access/media/nmnh/NMNH-000685...       6.593064   \n",
       "1  smithsonian-open-access/media/nmnh/NMNH-000689...       5.969532   \n",
       "2  smithsonian-open-access/media/nmnh/NMNH-004794...       6.564839   \n",
       "3  smithsonian-open-access/media/nmnh/NMNH-004062...       5.719669   \n",
       "4  smithsonian-open-access/media/nmnh/NMNH-000689...       5.997774   \n",
       "\n",
       "   resize_time  \n",
       "0     7.692269  \n",
       "1     0.073981  \n",
       "2     8.938944  \n",
       "3     0.079559  \n",
       "4     9.070885  "
      ]
     },
     "execution_count": 21,
     "metadata": {},
     "output_type": "execute_result"
    }
   ],
   "source": [
    "aws_results_df = pd.DataFrame(aws_results)\n",
    "aws_results_df.head()"
   ]
  },
  {
   "cell_type": "code",
   "execution_count": 22,
   "metadata": {
    "ExecuteTime": {
     "end_time": "2021-07-19T17:58:20.578139Z",
     "start_time": "2021-07-19T17:58:20.558723Z"
    }
   },
   "outputs": [
    {
     "data": {
      "text/html": [
       "<div>\n",
       "<style scoped>\n",
       "    .dataframe tbody tr th:only-of-type {\n",
       "        vertical-align: middle;\n",
       "    }\n",
       "\n",
       "    .dataframe tbody tr th {\n",
       "        vertical-align: top;\n",
       "    }\n",
       "\n",
       "    .dataframe thead th {\n",
       "        text-align: right;\n",
       "    }\n",
       "</style>\n",
       "<table border=\"1\" class=\"dataframe\">\n",
       "  <thead>\n",
       "    <tr style=\"text-align: right;\">\n",
       "      <th></th>\n",
       "      <th>start_time</th>\n",
       "      <th>end_time</th>\n",
       "      <th>aws_url</th>\n",
       "      <th>download_time</th>\n",
       "      <th>resize_time</th>\n",
       "      <th>overall_time</th>\n",
       "    </tr>\n",
       "  </thead>\n",
       "  <tbody>\n",
       "    <tr>\n",
       "      <th>0</th>\n",
       "      <td>1.626717e+09</td>\n",
       "      <td>1.626717e+09</td>\n",
       "      <td>smithsonian-open-access/media/nmnh/NMNH-000685...</td>\n",
       "      <td>6.593064</td>\n",
       "      <td>7.692269</td>\n",
       "      <td>14.291665</td>\n",
       "    </tr>\n",
       "    <tr>\n",
       "      <th>1</th>\n",
       "      <td>1.626717e+09</td>\n",
       "      <td>1.626717e+09</td>\n",
       "      <td>smithsonian-open-access/media/nmnh/NMNH-000689...</td>\n",
       "      <td>5.969532</td>\n",
       "      <td>0.073981</td>\n",
       "      <td>6.048042</td>\n",
       "    </tr>\n",
       "    <tr>\n",
       "      <th>2</th>\n",
       "      <td>1.626717e+09</td>\n",
       "      <td>1.626717e+09</td>\n",
       "      <td>smithsonian-open-access/media/nmnh/NMNH-004794...</td>\n",
       "      <td>6.564839</td>\n",
       "      <td>8.938944</td>\n",
       "      <td>15.509512</td>\n",
       "    </tr>\n",
       "    <tr>\n",
       "      <th>3</th>\n",
       "      <td>1.626717e+09</td>\n",
       "      <td>1.626717e+09</td>\n",
       "      <td>smithsonian-open-access/media/nmnh/NMNH-004062...</td>\n",
       "      <td>5.719669</td>\n",
       "      <td>0.079559</td>\n",
       "      <td>5.804742</td>\n",
       "    </tr>\n",
       "    <tr>\n",
       "      <th>4</th>\n",
       "      <td>1.626717e+09</td>\n",
       "      <td>1.626717e+09</td>\n",
       "      <td>smithsonian-open-access/media/nmnh/NMNH-000689...</td>\n",
       "      <td>5.997774</td>\n",
       "      <td>9.070885</td>\n",
       "      <td>15.076122</td>\n",
       "    </tr>\n",
       "  </tbody>\n",
       "</table>\n",
       "</div>"
      ],
      "text/plain": [
       "     start_time      end_time  \\\n",
       "0  1.626717e+09  1.626717e+09   \n",
       "1  1.626717e+09  1.626717e+09   \n",
       "2  1.626717e+09  1.626717e+09   \n",
       "3  1.626717e+09  1.626717e+09   \n",
       "4  1.626717e+09  1.626717e+09   \n",
       "\n",
       "                                             aws_url  download_time  \\\n",
       "0  smithsonian-open-access/media/nmnh/NMNH-000685...       6.593064   \n",
       "1  smithsonian-open-access/media/nmnh/NMNH-000689...       5.969532   \n",
       "2  smithsonian-open-access/media/nmnh/NMNH-004794...       6.564839   \n",
       "3  smithsonian-open-access/media/nmnh/NMNH-004062...       5.719669   \n",
       "4  smithsonian-open-access/media/nmnh/NMNH-000689...       5.997774   \n",
       "\n",
       "   resize_time  overall_time  \n",
       "0     7.692269     14.291665  \n",
       "1     0.073981      6.048042  \n",
       "2     8.938944     15.509512  \n",
       "3     0.079559      5.804742  \n",
       "4     9.070885     15.076122  "
      ]
     },
     "execution_count": 22,
     "metadata": {},
     "output_type": "execute_result"
    }
   ],
   "source": [
    "aws_results_df['overall_time'] = aws_results_df['end_time'] - aws_results_df['start_time']\n",
    "aws_results_df.head()"
   ]
  },
  {
   "cell_type": "code",
   "execution_count": 23,
   "metadata": {
    "ExecuteTime": {
     "end_time": "2021-07-19T17:58:20.586889Z",
     "start_time": "2021-07-19T17:58:20.582320Z"
    }
   },
   "outputs": [
    {
     "data": {
      "text/plain": [
       "285.975344243"
      ]
     },
     "execution_count": 23,
     "metadata": {},
     "output_type": "execute_result"
    }
   ],
   "source": [
    "aws_results_df['download_time'].sum()"
   ]
  },
  {
   "cell_type": "code",
   "execution_count": 24,
   "metadata": {
    "ExecuteTime": {
     "end_time": "2021-07-19T17:58:20.822590Z",
     "start_time": "2021-07-19T17:58:20.589172Z"
    }
   },
   "outputs": [
    {
     "data": {
      "text/plain": [
       "<AxesSubplot:ylabel='Frequency'>"
      ]
     },
     "execution_count": 24,
     "metadata": {},
     "output_type": "execute_result"
    },
    {
     "data": {
      "image/png": "[encoded data removed]",
      "text/plain": [
       "<Figure size 432x288 with 1 Axes>"
      ]
     },
     "metadata": {
      "needs_background": "light"
     },
     "output_type": "display_data"
    }
   ],
   "source": [
    "aws_results_df['download_time'].plot.hist(bins=20)"
   ]
  },
  {
   "cell_type": "code",
   "execution_count": 25,
   "metadata": {
    "ExecuteTime": {
     "end_time": "2021-07-19T17:58:21.005539Z",
     "start_time": "2021-07-19T17:58:20.824318Z"
    }
   },
   "outputs": [
    {
     "data": {
      "text/plain": [
       "<AxesSubplot:ylabel='Frequency'>"
      ]
     },
     "execution_count": 25,
     "metadata": {},
     "output_type": "execute_result"
    },
    {
     "data": {
      "image/png": "[encoded data removed]",
      "text/plain": [
       "<Figure size 432x288 with 1 Axes>"
      ]
     },
     "metadata": {
      "needs_background": "light"
     },
     "output_type": "display_data"
    }
   ],
   "source": [
    "aws_results_df['overall_time'].plot.hist(bins=20)"
   ]
  },
  {
   "cell_type": "code",
   "execution_count": 26,
   "metadata": {
    "ExecuteTime": {
     "end_time": "2021-07-19T17:58:21.012061Z",
     "start_time": "2021-07-19T17:58:21.006928Z"
    }
   },
   "outputs": [
    {
     "data": {
      "text/plain": [
       "[{'start_time': 1626717470.9036129,\n",
       "  'end_time': 1626717497.0527701,\n",
       "  'aws_url': 'smithsonian-open-access/media/nmnh/NMNH-01909378.jpg',\n",
       "  'download_time': 3.6237884000000093,\n",
       "  'resize_time': 22.519646730999995,\n",
       "  'overall_time': 26.149157285690308},\n",
       " {'start_time': 1626717454.225353,\n",
       "  'end_time': 1626717476.7134662,\n",
       "  'aws_url': 'smithsonian-open-access/media/nmnh/NMNH-00873265_01.jpg',\n",
       "  'download_time': 7.376795883999989,\n",
       "  'resize_time': 15.105807842000004,\n",
       "  'overall_time': 22.488113164901733},\n",
       " {'start_time': 1626717438.727299,\n",
       "  'end_time': 1626717460.323405,\n",
       "  'aws_url': 'smithsonian-open-access/media/nmnh/NMNH-01325210.jpg',\n",
       "  'download_time': 1.555797468999998,\n",
       "  'resize_time': 20.03408072900001,\n",
       "  'overall_time': 21.59610605239868},\n",
       " {'start_time': 1626717479.3594491,\n",
       "  'end_time': 1626717500.535153,\n",
       "  'aws_url': 'smithsonian-open-access/media/nmnh/NMNH-Acevedo164032.jpg',\n",
       "  'download_time': 3.193868715000008,\n",
       "  'resize_time': 17.97618843500001,\n",
       "  'overall_time': 21.175703763961792},\n",
       " {'start_time': 1626717450.4025888,\n",
       "  'end_time': 1626717470.3277252,\n",
       "  'aws_url': 'smithsonian-open-access/media/nmnh/NMNH-Acevedo166508.jpg',\n",
       "  'download_time': 4.5263513239999895,\n",
       "  'resize_time': 15.393407055000011,\n",
       "  'overall_time': 19.92513632774353}]"
      ]
     },
     "execution_count": 26,
     "metadata": {},
     "output_type": "execute_result"
    }
   ],
   "source": [
    "aws_results_df.sort_values('overall_time', ascending = False).head().to_dict(orient='records')"
   ]
  },
  {
   "cell_type": "code",
   "execution_count": 27,
   "metadata": {
    "ExecuteTime": {
     "end_time": "2021-07-19T17:58:21.018350Z",
     "start_time": "2021-07-19T17:58:21.013220Z"
    }
   },
   "outputs": [
    {
     "data": {
      "text/plain": [
       "[{'start_time': 1626717439.1282508,\n",
       "  'end_time': 1626717439.435199,\n",
       "  'aws_url': 'smithsonian-open-access/media/nmnh/NMNH-F-42-09.jpg',\n",
       "  'download_time': 0.2985164340000068,\n",
       "  'resize_time': 8.195999996019054e-06,\n",
       "  'overall_time': 0.306948184967041},\n",
       " {'start_time': 1626717444.447448,\n",
       "  'end_time': 1626717444.883704,\n",
       "  'aws_url': 'smithsonian-open-access/media/nmnh/NMNH-00517434.jpg',\n",
       "  'download_time': 0.39788075499998854,\n",
       "  'resize_time': 0.03385315200000605,\n",
       "  'overall_time': 0.43625593185424805},\n",
       " {'start_time': 1626717439.43624,\n",
       "  'end_time': 1626717439.977254,\n",
       "  'aws_url': 'smithsonian-open-access/media/nmnh/NMNH-Acevedo65682.jpg',\n",
       "  'download_time': 0.5172332660000052,\n",
       "  'resize_time': 0.019457284999987223,\n",
       "  'overall_time': 0.5410139560699463},\n",
       " {'start_time': 1626717482.145931,\n",
       "  'end_time': 1626717482.787188,\n",
       "  'aws_url': 'smithsonian-open-access/media/nmnh/NMNH-Acevedo79793-000001.jpg',\n",
       "  'download_time': 0.6165672499999886,\n",
       "  'resize_time': 0.01981413200000759,\n",
       "  'overall_time': 0.6412570476531982},\n",
       " {'start_time': 1626717490.942739,\n",
       "  'end_time': 1626717491.614657,\n",
       "  'aws_url': 'smithsonian-open-access/media/nmnh/NMNH-IMG_8670.jpg',\n",
       "  'download_time': 0.6188816830000121,\n",
       "  'resize_time': 0.04804532599999334,\n",
       "  'overall_time': 0.6719179153442383}]"
      ]
     },
     "execution_count": 27,
     "metadata": {},
     "output_type": "execute_result"
    }
   ],
   "source": [
    "aws_results_df.sort_values('overall_time', ascending = True).head().to_dict(orient='records')"
   ]
  },
  {
   "cell_type": "code",
   "execution_count": 28,
   "metadata": {
    "ExecuteTime": {
     "end_time": "2021-07-19T17:58:22.412775Z",
     "start_time": "2021-07-19T17:58:21.019634Z"
    }
   },
   "outputs": [],
   "source": [
    "client.close()"
   ]
  },
  {
   "cell_type": "code",
   "execution_count": null,
   "metadata": {},
   "outputs": [],
   "source": []
  }
 ],
 "metadata": {
  "kernelspec": {
   "display_name": "Python 3",
   "language": "python",
   "name": "python3"
  },
  "language_info": {
   "codemirror_mode": {
    "name": "ipython",
    "version": 3
   },
   "file_extension": ".py",
   "mimetype": "text/x-python",
   "name": "python",
   "nbconvert_exporter": "python",
   "pygments_lexer": "ipython3",
   "version": "3.8.10"
  }
 },
 "nbformat": 4,
 "nbformat_minor": 4
}
