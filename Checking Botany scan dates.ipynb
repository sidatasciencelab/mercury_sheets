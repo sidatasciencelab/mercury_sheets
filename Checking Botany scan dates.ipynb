{
 "cells": [
  {
   "cell_type": "code",
   "execution_count": 1,
   "metadata": {
    "ExecuteTime": {
     "end_time": "2021-09-03T15:56:54.610307Z",
     "start_time": "2021-09-03T15:56:52.803632Z"
    }
   },
   "outputs": [],
   "source": [
    "from dask.distributed import Client\n",
    "import dask.bag as db\n",
    "import json\n",
    "from pathlib import Path\n",
    "import zipfile\n",
    "import pandas as pd\n",
    "import numpy as np"
   ]
  },
  {
   "cell_type": "code",
   "execution_count": 2,
   "metadata": {
    "ExecuteTime": {
     "end_time": "2021-09-03T15:56:57.791738Z",
     "start_time": "2021-09-03T15:56:55.733118Z"
    }
   },
   "outputs": [
    {
     "data": {
      "text/html": [
       "<table style=\"border: 2px solid white;\">\n",
       "<tr>\n",
       "<td style=\"vertical-align: top; border: 0px solid white\">\n",
       "<h3 style=\"text-align: left;\">Client</h3>\n",
       "<ul style=\"text-align: left; list-style: none; margin: 0; padding: 0;\">\n",
       "  <li><b>Scheduler: </b>tcp://127.0.0.1:51988</li>\n",
       "  <li><b>Dashboard: </b><a href='http://127.0.0.1:8787/status' target='_blank'>http://127.0.0.1:8787/status</a></li>\n",
       "</ul>\n",
       "</td>\n",
       "<td style=\"vertical-align: top; border: 0px solid white\">\n",
       "<h3 style=\"text-align: left;\">Cluster</h3>\n",
       "<ul style=\"text-align: left; list-style:none; margin: 0; padding: 0;\">\n",
       "  <li><b>Workers: </b>8</li>\n",
       "  <li><b>Cores: </b>32</li>\n",
       "  <li><b>Memory: </b>17.18 GB</li>\n",
       "</ul>\n",
       "</td>\n",
       "</tr>\n",
       "</table>"
      ],
      "text/plain": [
       "<Client: 'tcp://127.0.0.1:51988' processes=8 threads=32, memory=17.18 GB>"
      ]
     },
     "execution_count": 2,
     "metadata": {},
     "output_type": "execute_result"
    }
   ],
   "source": [
    "client = Client(n_workers=8, threads_per_worker=4)\n",
    "client"
   ]
  },
  {
   "cell_type": "code",
   "execution_count": 3,
   "metadata": {
    "ExecuteTime": {
     "end_time": "2021-09-03T15:56:58.794594Z",
     "start_time": "2021-09-03T15:56:58.785971Z"
    }
   },
   "outputs": [],
   "source": [
    "def gh_dask(location, subset=[]):\n",
    "    gh_location = Path(location)\n",
    "    if gh_location.is_dir():\n",
    "        units = [unit_dir.name for unit_dir in Path(gh_location / 'metadata/objects').iterdir()]\n",
    "        if len(subset) == 0:\n",
    "            unit_subset = units\n",
    "        else:\n",
    "            unit_subset = [unit for unit in subset if unit in units]\n",
    "        if len(unit_subset):\n",
    "            metadata_files = []\n",
    "            for unit in unit_subset:\n",
    "                unit_dir = Path(gh_location / 'metadata/objects' / unit)\n",
    "                valid_files = [str(txt_bz2) for txt_bz2 in unit_dir.glob('*.txt.bz2') \\\n",
    "                                       if ('index.txt' not in txt_bz2.name) and \\\n",
    "                                          (txt_bz2.stat().st_size > 20)]\n",
    "                metadata_files += valid_files\n",
    "            gh_dask_bag = db.read_text(metadata_files, compression='bz2').map(json.loads)\n",
    "            return gh_dask_bag      "
   ]
  },
  {
   "cell_type": "code",
   "execution_count": 4,
   "metadata": {
    "ExecuteTime": {
     "end_time": "2021-06-04T18:10:12.523275Z",
     "start_time": "2021-06-04T18:10:12.378005Z"
    }
   },
   "outputs": [
    {
     "name": "stdout",
     "output_type": "stream",
     "text": [
      "File ‘si_openacess.zip’ already there; not retrieving.\r\n"
     ]
    }
   ],
   "source": [
    "! wget -nc -O si_openaccess.zip https://github.com/Smithsonian/OpenAccess/archive/refs/heads/master.zip"
   ]
  },
  {
   "cell_type": "code",
   "execution_count": 5,
   "metadata": {
    "ExecuteTime": {
     "end_time": "2021-06-04T18:10:13.063782Z",
     "start_time": "2021-06-04T18:10:12.525709Z"
    }
   },
   "outputs": [],
   "source": [
    "! unzip -nq si_openaccess.zip -d si_openaccess"
   ]
  },
  {
   "cell_type": "code",
   "execution_count": 7,
   "metadata": {
    "ExecuteTime": {
     "end_time": "2021-09-03T16:00:55.578728Z",
     "start_time": "2021-09-03T16:00:55.572665Z"
    }
   },
   "outputs": [
    {
     "name": "stdout",
     "output_type": "stream",
     "text": [
      "['NMNHANTHRO', 'NMNHFISHES', 'NMNHBIRDS', 'NMNHINV', 'NMAfA', 'ACAH', 'NMAI', 'SIA', 'NMNHENTO', 'NMAAHC', 'HSFA', 'CHNDM', 'HAC', 'NMAH', 'NAA', 'NPG', 'NASM', 'SAAM', 'NMNHBOTANY', 'NMNHMAMMALS', 'SI', 'NMNHMINSCI', 'HMSG', 'SIL', 'CFCHFOLKLIFE', 'NMNHEDUCATION', 'FBR', 'NMNHHERPS', 'NPM', 'FSA', 'NMNHPALEO', 'FSG', 'ACM']\n"
     ]
    }
   ],
   "source": [
    "gh_location = Path('/Users/triznam/Downloads/OpenAccess-master')\n",
    "gh_location.is_dir()\n",
    "#units = gh_location / 'metadata/objects'\n",
    "units = [unit_dir.name for unit_dir in Path(gh_location / 'metadata/objects').iterdir()]\n",
    "print(units)"
   ]
  },
  {
   "cell_type": "code",
   "execution_count": 8,
   "metadata": {
    "ExecuteTime": {
     "end_time": "2021-09-03T16:01:17.186079Z",
     "start_time": "2021-09-03T16:01:17.130208Z"
    }
   },
   "outputs": [
    {
     "data": {
      "text/plain": [
       "dask.bag<loads, npartitions=256>"
      ]
     },
     "execution_count": 8,
     "metadata": {},
     "output_type": "execute_result"
    }
   ],
   "source": [
    "b = gh_dask(gh_location, subset = ['NMNHBOTANY'])\n",
    "b"
   ]
  },
  {
   "cell_type": "code",
   "execution_count": 9,
   "metadata": {
    "ExecuteTime": {
     "end_time": "2021-09-03T16:01:19.821552Z",
     "start_time": "2021-09-03T16:01:19.363864Z"
    }
   },
   "outputs": [
    {
     "name": "stdout",
     "output_type": "stream",
     "text": [
      "{\n",
      "  \"id\": \"edanmdm-nmnhbotany_13072159\",\n",
      "  \"version\": \"\",\n",
      "  \"unitCode\": \"NMNHBOTANY\",\n",
      "  \"linkedId\": \"0\",\n",
      "  \"type\": \"edanmdm\",\n",
      "  \"content\": {\n",
      "    \"descriptiveNonRepeating\": {\n",
      "      \"record_ID\": \"nmnhbotany_13072159\",\n",
      "      \"guid\": \"http://n2t.net/ark:/65665/35715fbeb-7d89-40bd-a9aa-29ddf58595fd\",\n",
      "      \"title_sort\": \"EUGENIA LINEARIFOLIA O BERG\",\n",
      "      \"unit_code\": \"NMNHBOTANY\",\n",
      "      \"record_link\": \"http://n2t.net/ark:/65665/35715fbeb-7d89-40bd-a9aa-29ddf58595fd\",\n",
      "      \"title\": {\n",
      "        \"label\": \"title\",\n",
      "        \"content\": \"Eugenia linearifolia O. Berg\"\n",
      "      },\n",
      "      \"metadata_usage\": {\n",
      "        \"access\": \"CC0\"\n",
      "      },\n",
      "      \"data_source\": \"NMNH - Botany Dept.\"\n",
      "    },\n",
      "    \"indexedStructured\": {\n",
      "      \"tax_family\": [\n",
      "        \"Myrtaceae\"\n",
      "      ],\n",
      "      \"geoLocation\": [\n",
      "        {\n",
      "          \"L1\": {\n",
      "            \"type\": \"Continent\",\n",
      "            \"content\": \"South America - Neotropics\"\n",
      "          },\n",
      "          \"L2\": {\n",
      "            \"type\": \"Country\",\n",
      "            \"content\": \"Brazil\"\n",
      "          },\n",
      "          \"L3\": {\n",
      "            \"type\": \"State\",\n",
      "            \"content\": \"Minas Gerais\"\n",
      "          },\n",
      "          \"Other\": {\n",
      "            \"type\": \"Locality\",\n",
      "            \"content\": \"Minas Brasiliae.\"\n",
      "          }\n",
      "        }\n",
      "      ],\n",
      "      \"tax_class\": [\n",
      "        \"Dicotyledonae\"\n",
      "      ],\n",
      "      \"tax_order\": [\n",
      "        \"Myrtales\"\n",
      "      ],\n",
      "      \"name\": [\n",
      "        \"Glaziou, A. F. M.\",\n",
      "        \"Reflora Project\"\n",
      "      ],\n",
      "      \"tax_kingdom\": [\n",
      "        \"Plantae\"\n",
      "      ],\n",
      "      \"topic\": [\n",
      "        \"Dicotyledonae\"\n",
      "      ],\n",
      "      \"scientific_name\": [\n",
      "        \"Eugenia linearifolia O. Berg\"\n",
      "      ],\n",
      "      \"place\": [\n",
      "        \"Minas Gerais\",\n",
      "        \"Brazil\",\n",
      "        \"South America - Neotropics\"\n",
      "      ],\n",
      "      \"online_media_type\": [\n",
      "        \"Images\"\n",
      "      ]\n",
      "    },\n",
      "    \"freetext\": {\n",
      "      \"setName\": [\n",
      "        {\n",
      "          \"label\": \"See more items in\",\n",
      "          \"content\": \"Botany\"\n",
      "        },\n",
      "        {\n",
      "          \"label\": \"See more items in\",\n",
      "          \"content\": \"Flowering plants and ferns\"\n",
      "        },\n",
      "        {\n",
      "          \"label\": \"See more items in\",\n",
      "          \"content\": \"Reflora Project\"\n",
      "        }\n",
      "      ],\n",
      "      \"identifier\": [\n",
      "        {\n",
      "          \"label\": \"Barcode\",\n",
      "          \"content\": \"01898202\"\n",
      "        },\n",
      "        {\n",
      "          \"label\": \"USNM Number\",\n",
      "          \"content\": \"291219\"\n",
      "        }\n",
      "      ],\n",
      "      \"notes\": [\n",
      "        {\n",
      "          \"label\": \"Record Last Modified\",\n",
      "          \"content\": \"10 Jan 2019\"\n",
      "        },\n",
      "        {\n",
      "          \"label\": \"Specimen Count\",\n",
      "          \"content\": \"1\"\n",
      "        }\n",
      "      ],\n",
      "      \"name\": [\n",
      "        {\n",
      "          \"label\": \"Biogeographical Region\",\n",
      "          \"content\": \"84 - Brazil\"\n",
      "        },\n",
      "        {\n",
      "          \"label\": \"Collector\",\n",
      "          \"content\": \"Auguste Fran\\u00e7ois Marie Glaziou\"\n",
      "        }\n",
      "      ],\n",
      "      \"publisher\": [\n",
      "        {\n",
      "          \"label\": \"Published Name\",\n",
      "          \"content\": \"Eugenia linearifolia O. Berg\"\n",
      "        }\n",
      "      ],\n",
      "      \"place\": [\n",
      "        {\n",
      "          \"label\": \"Place\",\n",
      "          \"content\": \"Minas Brasiliae., Minas Gerais, Brazil, South America - Neotropics\"\n",
      "        }\n",
      "      ],\n",
      "      \"dataSource\": [\n",
      "        {\n",
      "          \"label\": \"Data Source\",\n",
      "          \"content\": \"NMNH - Botany Dept.\"\n",
      "        }\n",
      "      ],\n",
      "      \"taxonomicName\": [\n",
      "        {\n",
      "          \"label\": \"Taxonomy\",\n",
      "          \"content\": \"Plantae Dicotyledonae Myrtales Myrtaceae\"\n",
      "        }\n",
      "      ]\n",
      "    }\n",
      "  },\n",
      "  \"url\": \"edanmdm:nmnhbotany_13072159\",\n",
      "  \"hash\": \"49a5a49a94de0e929947d1c61392abf105c13c01\",\n",
      "  \"docSignature\": \"b8927eabef682e1960a7c15e632a24bdd353e2b1_a80b10ee5359fdb26048bd52399b64ab\",\n",
      "  \"timestamp\": 1581934917,\n",
      "  \"lastTimeUpdated\": 1581934858,\n",
      "  \"title\": \"Eugenia linearifolia O. Berg\"\n",
      "}\n"
     ]
    }
   ],
   "source": [
    "sample_record = b.take(1000)[948]\n",
    "print(json.dumps(sample_record, indent=2))"
   ]
  },
  {
   "cell_type": "code",
   "execution_count": 10,
   "metadata": {
    "ExecuteTime": {
     "end_time": "2021-09-03T16:01:23.427002Z",
     "start_time": "2021-09-03T16:01:23.415668Z"
    }
   },
   "outputs": [],
   "source": [
    "def extract_ids(record):\n",
    "    \"\"\"Take a single NMNH Botany metadata record, and pulls out ids\n",
    "\n",
    "    Parameters\n",
    "    ----------\n",
    "    record : dict\n",
    "        A single NMNH Botany metadata record in highly-nested dictionary format.\n",
    "\n",
    "    Returns\n",
    "    -------\n",
    "    flattened_record: dict\n",
    "        An un-nested dictionary that only contains the record id, unit code,\n",
    "        object title, media_count, media_id, topic list, object type, and\n",
    "        object medium.\n",
    "    \"\"\"\n",
    "    flattened_record = dict()\n",
    "    flattened_record['edan_id'] = record['id']\n",
    "    flattened_record['title'] = record['title']\n",
    "    flattened_record['timestamp_unix'] = record['timestamp']\n",
    "    flattened_record['lastupdate_unix'] = record['lastTimeUpdated']\n",
    "    \n",
    "    flattened_record['Barcode'] = np.nan\n",
    "    \n",
    "    flattened_record['specimen_guid'] = record['content'].get('descriptiveNonRepeating', {}).get('guid',np.nan)\n",
    "    \n",
    "    media_count = record['content'].get('descriptiveNonRepeating', {}).get('online_media',{}).get('mediaCount',np.nan)\n",
    "    flattened_record['media_count'] = float(media_count)\n",
    "    media = record['content'].get('descriptiveNonRepeating', {}).get('online_media',{}).get('media',[])   \n",
    "    if len(media):\n",
    "        flattened_record['media_guid'] = media[0]['guid']\n",
    "        if 'resources' in media[0]:\n",
    "            guid_list = []\n",
    "            aws_id_list = []\n",
    "            for media_record in media:\n",
    "                guid_list.append(media_record['guid'])\n",
    "                if 'resources' in media_record:\n",
    "                    for media_resource in media_record['resources']:\n",
    "                        if 'JPEG' in media_resource['label']:\n",
    "                            aws_id = media_resource['url'].split('=')[1].split('.')[0]\n",
    "                            aws_id_list.append(aws_id)\n",
    "            if len(guid_list):\n",
    "                flattened_record['media_guid_list'] = ';'.join(guid_list)        \n",
    "            if len(aws_id_list):\n",
    "                flattened_record['media_aws_id_list'] = ';'.join(aws_id_list)\n",
    "                flattened_record['aws_media_count'] = len(aws_id_list)\n",
    "    if 'freetext' in record['content']:\n",
    "        if 'identifier' in record['content']['freetext']:\n",
    "            for identifier in record['content']['freetext']['identifier']:\n",
    "                id_type = identifier['label']\n",
    "                id_number = identifier['content']\n",
    "                flattened_record[id_type] = id_number\n",
    "          \n",
    "    return flattened_record"
   ]
  },
  {
   "cell_type": "code",
   "execution_count": 11,
   "metadata": {
    "ExecuteTime": {
     "end_time": "2021-09-03T16:01:29.114053Z",
     "start_time": "2021-09-03T16:01:29.111335Z"
    }
   },
   "outputs": [
    {
     "name": "stdout",
     "output_type": "stream",
     "text": [
      "{'edan_id': 'edanmdm-nmnhbotany_13072159', 'title': 'Eugenia linearifolia O. Berg', 'timestamp_unix': 1581934917, 'lastupdate_unix': 1581934858, 'Barcode': '01898202', 'specimen_guid': 'http://n2t.net/ark:/65665/35715fbeb-7d89-40bd-a9aa-29ddf58595fd', 'media_count': nan, 'USNM Number': '291219'}\n"
     ]
    }
   ],
   "source": [
    "print(extract_ids(sample_record))"
   ]
  },
  {
   "cell_type": "code",
   "execution_count": 12,
   "metadata": {
    "ExecuteTime": {
     "end_time": "2021-09-03T16:05:14.722229Z",
     "start_time": "2021-09-03T16:01:33.115440Z"
    }
   },
   "outputs": [],
   "source": [
    "botany_ids = (b.map(extract_ids).compute())\n"
   ]
  },
  {
   "cell_type": "code",
   "execution_count": 13,
   "metadata": {
    "ExecuteTime": {
     "end_time": "2021-09-03T16:16:19.529772Z",
     "start_time": "2021-09-03T16:15:59.999387Z"
    }
   },
   "outputs": [
    {
     "name": "stdout",
     "output_type": "stream",
     "text": [
      "<class 'pandas.core.frame.DataFrame'>\n",
      "RangeIndex: 3973848 entries, 0 to 3973847\n",
      "Data columns (total 13 columns):\n",
      " #   Column             Dtype  \n",
      "---  ------             -----  \n",
      " 0   edan_id            object \n",
      " 1   title              object \n",
      " 2   timestamp_unix     int64  \n",
      " 3   lastupdate_unix    int64  \n",
      " 4   Barcode            object \n",
      " 5   specimen_guid      object \n",
      " 6   media_count        float64\n",
      " 7   USNM Number        object \n",
      " 8   Other Numbers      object \n",
      " 9   media_guid         object \n",
      " 10  media_guid_list    object \n",
      " 11  media_aws_id_list  object \n",
      " 12  aws_media_count    float64\n",
      "dtypes: float64(2), int64(2), object(9)\n",
      "memory usage: 394.1+ MB\n"
     ]
    }
   ],
   "source": [
    "botany_df = pd.DataFrame(botany_ids)\n",
    "botany_df.info()"
   ]
  },
  {
   "cell_type": "code",
   "execution_count": 14,
   "metadata": {
    "ExecuteTime": {
     "end_time": "2021-09-03T16:16:26.158487Z",
     "start_time": "2021-09-03T16:16:25.818191Z"
    }
   },
   "outputs": [
    {
     "data": {
      "text/html": [
       "<div>\n",
       "<style scoped>\n",
       "    .dataframe tbody tr th:only-of-type {\n",
       "        vertical-align: middle;\n",
       "    }\n",
       "\n",
       "    .dataframe tbody tr th {\n",
       "        vertical-align: top;\n",
       "    }\n",
       "\n",
       "    .dataframe thead th {\n",
       "        text-align: right;\n",
       "    }\n",
       "</style>\n",
       "<table border=\"1\" class=\"dataframe\">\n",
       "  <thead>\n",
       "    <tr style=\"text-align: right;\">\n",
       "      <th></th>\n",
       "      <th>timestamp_unix</th>\n",
       "      <th>timestamp_dt</th>\n",
       "      <th>lastupdate_unix</th>\n",
       "      <th>lastupdate_dt</th>\n",
       "    </tr>\n",
       "  </thead>\n",
       "  <tbody>\n",
       "    <tr>\n",
       "      <th>0</th>\n",
       "      <td>1579602961</td>\n",
       "      <td>2020-01-21 10:36:01</td>\n",
       "      <td>1579602926</td>\n",
       "      <td>2020-01-21 10:35:26</td>\n",
       "    </tr>\n",
       "    <tr>\n",
       "      <th>1</th>\n",
       "      <td>1579602961</td>\n",
       "      <td>2020-01-21 10:36:01</td>\n",
       "      <td>1579602948</td>\n",
       "      <td>2020-01-21 10:35:48</td>\n",
       "    </tr>\n",
       "    <tr>\n",
       "      <th>2</th>\n",
       "      <td>1580204960</td>\n",
       "      <td>2020-01-28 09:49:20</td>\n",
       "      <td>1580204947</td>\n",
       "      <td>2020-01-28 09:49:07</td>\n",
       "    </tr>\n",
       "    <tr>\n",
       "      <th>3</th>\n",
       "      <td>1580204960</td>\n",
       "      <td>2020-01-28 09:49:20</td>\n",
       "      <td>1580204947</td>\n",
       "      <td>2020-01-28 09:49:07</td>\n",
       "    </tr>\n",
       "    <tr>\n",
       "      <th>4</th>\n",
       "      <td>1580205061</td>\n",
       "      <td>2020-01-28 09:51:01</td>\n",
       "      <td>1580205053</td>\n",
       "      <td>2020-01-28 09:50:53</td>\n",
       "    </tr>\n",
       "    <tr>\n",
       "      <th>5</th>\n",
       "      <td>1580205606</td>\n",
       "      <td>2020-01-28 10:00:06</td>\n",
       "      <td>1580205585</td>\n",
       "      <td>2020-01-28 09:59:45</td>\n",
       "    </tr>\n",
       "    <tr>\n",
       "      <th>6</th>\n",
       "      <td>1580207061</td>\n",
       "      <td>2020-01-28 10:24:21</td>\n",
       "      <td>1580207044</td>\n",
       "      <td>2020-01-28 10:24:04</td>\n",
       "    </tr>\n",
       "    <tr>\n",
       "      <th>7</th>\n",
       "      <td>1579243794</td>\n",
       "      <td>2020-01-17 06:49:54</td>\n",
       "      <td>1579242667</td>\n",
       "      <td>2020-01-17 06:31:07</td>\n",
       "    </tr>\n",
       "    <tr>\n",
       "      <th>8</th>\n",
       "      <td>1579247274</td>\n",
       "      <td>2020-01-17 07:47:54</td>\n",
       "      <td>1579246883</td>\n",
       "      <td>2020-01-17 07:41:23</td>\n",
       "    </tr>\n",
       "    <tr>\n",
       "      <th>9</th>\n",
       "      <td>1579238973</td>\n",
       "      <td>2020-01-17 05:29:33</td>\n",
       "      <td>1579238512</td>\n",
       "      <td>2020-01-17 05:21:52</td>\n",
       "    </tr>\n",
       "    <tr>\n",
       "      <th>10</th>\n",
       "      <td>1579238973</td>\n",
       "      <td>2020-01-17 05:29:33</td>\n",
       "      <td>1579238512</td>\n",
       "      <td>2020-01-17 05:21:52</td>\n",
       "    </tr>\n",
       "    <tr>\n",
       "      <th>11</th>\n",
       "      <td>1579275077</td>\n",
       "      <td>2020-01-17 15:31:17</td>\n",
       "      <td>1579274994</td>\n",
       "      <td>2020-01-17 15:29:54</td>\n",
       "    </tr>\n",
       "    <tr>\n",
       "      <th>12</th>\n",
       "      <td>1579275077</td>\n",
       "      <td>2020-01-17 15:31:17</td>\n",
       "      <td>1579274994</td>\n",
       "      <td>2020-01-17 15:29:54</td>\n",
       "    </tr>\n",
       "    <tr>\n",
       "      <th>13</th>\n",
       "      <td>1579275077</td>\n",
       "      <td>2020-01-17 15:31:17</td>\n",
       "      <td>1579274994</td>\n",
       "      <td>2020-01-17 15:29:54</td>\n",
       "    </tr>\n",
       "    <tr>\n",
       "      <th>14</th>\n",
       "      <td>1579275077</td>\n",
       "      <td>2020-01-17 15:31:17</td>\n",
       "      <td>1579274994</td>\n",
       "      <td>2020-01-17 15:29:54</td>\n",
       "    </tr>\n",
       "    <tr>\n",
       "      <th>15</th>\n",
       "      <td>1579275077</td>\n",
       "      <td>2020-01-17 15:31:17</td>\n",
       "      <td>1579274994</td>\n",
       "      <td>2020-01-17 15:29:54</td>\n",
       "    </tr>\n",
       "    <tr>\n",
       "      <th>16</th>\n",
       "      <td>1579275077</td>\n",
       "      <td>2020-01-17 15:31:17</td>\n",
       "      <td>1579274995</td>\n",
       "      <td>2020-01-17 15:29:55</td>\n",
       "    </tr>\n",
       "    <tr>\n",
       "      <th>17</th>\n",
       "      <td>1579275077</td>\n",
       "      <td>2020-01-17 15:31:17</td>\n",
       "      <td>1579274995</td>\n",
       "      <td>2020-01-17 15:29:55</td>\n",
       "    </tr>\n",
       "    <tr>\n",
       "      <th>18</th>\n",
       "      <td>1579275077</td>\n",
       "      <td>2020-01-17 15:31:17</td>\n",
       "      <td>1579274995</td>\n",
       "      <td>2020-01-17 15:29:55</td>\n",
       "    </tr>\n",
       "    <tr>\n",
       "      <th>19</th>\n",
       "      <td>1579275109</td>\n",
       "      <td>2020-01-17 15:31:49</td>\n",
       "      <td>1579275027</td>\n",
       "      <td>2020-01-17 15:30:27</td>\n",
       "    </tr>\n",
       "  </tbody>\n",
       "</table>\n",
       "</div>"
      ],
      "text/plain": [
       "    timestamp_unix        timestamp_dt  lastupdate_unix       lastupdate_dt\n",
       "0       1579602961 2020-01-21 10:36:01       1579602926 2020-01-21 10:35:26\n",
       "1       1579602961 2020-01-21 10:36:01       1579602948 2020-01-21 10:35:48\n",
       "2       1580204960 2020-01-28 09:49:20       1580204947 2020-01-28 09:49:07\n",
       "3       1580204960 2020-01-28 09:49:20       1580204947 2020-01-28 09:49:07\n",
       "4       1580205061 2020-01-28 09:51:01       1580205053 2020-01-28 09:50:53\n",
       "5       1580205606 2020-01-28 10:00:06       1580205585 2020-01-28 09:59:45\n",
       "6       1580207061 2020-01-28 10:24:21       1580207044 2020-01-28 10:24:04\n",
       "7       1579243794 2020-01-17 06:49:54       1579242667 2020-01-17 06:31:07\n",
       "8       1579247274 2020-01-17 07:47:54       1579246883 2020-01-17 07:41:23\n",
       "9       1579238973 2020-01-17 05:29:33       1579238512 2020-01-17 05:21:52\n",
       "10      1579238973 2020-01-17 05:29:33       1579238512 2020-01-17 05:21:52\n",
       "11      1579275077 2020-01-17 15:31:17       1579274994 2020-01-17 15:29:54\n",
       "12      1579275077 2020-01-17 15:31:17       1579274994 2020-01-17 15:29:54\n",
       "13      1579275077 2020-01-17 15:31:17       1579274994 2020-01-17 15:29:54\n",
       "14      1579275077 2020-01-17 15:31:17       1579274994 2020-01-17 15:29:54\n",
       "15      1579275077 2020-01-17 15:31:17       1579274994 2020-01-17 15:29:54\n",
       "16      1579275077 2020-01-17 15:31:17       1579274995 2020-01-17 15:29:55\n",
       "17      1579275077 2020-01-17 15:31:17       1579274995 2020-01-17 15:29:55\n",
       "18      1579275077 2020-01-17 15:31:17       1579274995 2020-01-17 15:29:55\n",
       "19      1579275109 2020-01-17 15:31:49       1579275027 2020-01-17 15:30:27"
      ]
     },
     "execution_count": 14,
     "metadata": {},
     "output_type": "execute_result"
    }
   ],
   "source": [
    "botany_df['timestamp_dt'] = pd.to_datetime(botany_df['timestamp_unix'], unit = 's')\n",
    "botany_df['lastupdate_dt'] = pd.to_datetime(botany_df['lastupdate_unix'], unit = 's')\n",
    "botany_df[['timestamp_unix','timestamp_dt','lastupdate_unix','lastupdate_dt']].head(20)"
   ]
  },
  {
   "cell_type": "code",
   "execution_count": 15,
   "metadata": {
    "ExecuteTime": {
     "end_time": "2021-09-03T16:17:17.201884Z",
     "start_time": "2021-09-03T16:16:28.826566Z"
    }
   },
   "outputs": [],
   "source": [
    "botany_df.to_csv('botany_ids_and_dates.tsv', index=False, sep='\\t')"
   ]
  },
  {
   "cell_type": "code",
   "execution_count": 16,
   "metadata": {
    "ExecuteTime": {
     "end_time": "2021-09-03T16:17:19.416310Z",
     "start_time": "2021-09-03T16:17:17.206369Z"
    }
   },
   "outputs": [
    {
     "data": {
      "text/plain": [
       "[{'edan_id': 'edanmdm-nmnhbotany_15918739',\n",
       "  'title': 'Bromus frondosus (Shear) Wooton & Standl.',\n",
       "  'timestamp_unix': 1601977951,\n",
       "  'lastupdate_unix': 1601977905,\n",
       "  'Barcode': '04081884',\n",
       "  'specimen_guid': 'http://n2t.net/ark:/65665/3b5243aed-72d1-482d-8681-31014e8ca0dc',\n",
       "  'media_count': nan,\n",
       "  'USNM Number': '906050',\n",
       "  'Other Numbers': nan,\n",
       "  'media_guid': nan,\n",
       "  'media_guid_list': nan,\n",
       "  'media_aws_id_list': nan,\n",
       "  'aws_media_count': nan,\n",
       "  'timestamp_dt': Timestamp('2020-10-06 09:52:31'),\n",
       "  'lastupdate_dt': Timestamp('2020-10-06 09:51:45')},\n",
       " {'edan_id': 'edanmdm-nmnhbotany_15959480',\n",
       "  'title': 'Bromus rubens L.',\n",
       "  'timestamp_unix': 1601977951,\n",
       "  'lastupdate_unix': 1601977905,\n",
       "  'Barcode': '04085323',\n",
       "  'specimen_guid': 'http://n2t.net/ark:/65665/397644d49-955e-42b2-bd25-47b474586cd7',\n",
       "  'media_count': nan,\n",
       "  'USNM Number': '390640',\n",
       "  'Other Numbers': nan,\n",
       "  'media_guid': nan,\n",
       "  'media_guid_list': nan,\n",
       "  'media_aws_id_list': nan,\n",
       "  'aws_media_count': nan,\n",
       "  'timestamp_dt': Timestamp('2020-10-06 09:52:31'),\n",
       "  'lastupdate_dt': Timestamp('2020-10-06 09:51:45')},\n",
       " {'edan_id': 'edanmdm-nmnhbotany_15959489',\n",
       "  'title': 'Bromus secalinus L.',\n",
       "  'timestamp_unix': 1601977951,\n",
       "  'lastupdate_unix': 1601977905,\n",
       "  'Barcode': '04085448',\n",
       "  'specimen_guid': 'http://n2t.net/ark:/65665/3cca736a5-316a-41ce-a6e7-a33866c7d86b',\n",
       "  'media_count': nan,\n",
       "  'USNM Number': '1009292',\n",
       "  'Other Numbers': nan,\n",
       "  'media_guid': nan,\n",
       "  'media_guid_list': nan,\n",
       "  'media_aws_id_list': nan,\n",
       "  'aws_media_count': nan,\n",
       "  'timestamp_dt': Timestamp('2020-10-06 09:52:31'),\n",
       "  'lastupdate_dt': Timestamp('2020-10-06 09:51:45')},\n",
       " {'edan_id': 'edanmdm-nmnhbotany_15959176',\n",
       "  'title': 'Bromus pumpellianus Scribn.',\n",
       "  'timestamp_unix': 1601977951,\n",
       "  'lastupdate_unix': 1601977905,\n",
       "  'Barcode': '04084469',\n",
       "  'specimen_guid': 'http://n2t.net/ark:/65665/35c508678-2bc6-4079-9d33-64df40778ede',\n",
       "  'media_count': nan,\n",
       "  'USNM Number': '3647025',\n",
       "  'Other Numbers': nan,\n",
       "  'media_guid': nan,\n",
       "  'media_guid_list': nan,\n",
       "  'media_aws_id_list': nan,\n",
       "  'aws_media_count': nan,\n",
       "  'timestamp_dt': Timestamp('2020-10-06 09:52:31'),\n",
       "  'lastupdate_dt': Timestamp('2020-10-06 09:51:45')},\n",
       " {'edan_id': 'edanmdm-nmnhbotany_15959149',\n",
       "  'title': 'Bromus pumpellianus Scribn.',\n",
       "  'timestamp_unix': 1601977951,\n",
       "  'lastupdate_unix': 1601977905,\n",
       "  'Barcode': '04084643',\n",
       "  'specimen_guid': 'http://n2t.net/ark:/65665/39c37f106-655f-409f-a7b4-19c93c3f5af4',\n",
       "  'media_count': nan,\n",
       "  'USNM Number': '1646370',\n",
       "  'Other Numbers': nan,\n",
       "  'media_guid': nan,\n",
       "  'media_guid_list': nan,\n",
       "  'media_aws_id_list': nan,\n",
       "  'aws_media_count': nan,\n",
       "  'timestamp_dt': Timestamp('2020-10-06 09:52:31'),\n",
       "  'lastupdate_dt': Timestamp('2020-10-06 09:51:45')}]"
      ]
     },
     "execution_count": 16,
     "metadata": {},
     "output_type": "execute_result"
    }
   ],
   "source": [
    "botany_df.sort_values('timestamp_unix', ascending=False).head().to_dict(orient='records')"
   ]
  },
  {
   "cell_type": "code",
   "execution_count": 17,
   "metadata": {
    "ExecuteTime": {
     "end_time": "2021-09-03T16:17:21.742124Z",
     "start_time": "2021-09-03T16:17:19.418473Z"
    }
   },
   "outputs": [
    {
     "data": {
      "text/plain": [
       "[{'edan_id': 'edanmdm-nmnhbotany_2130471',\n",
       "  'title': 'Lupinus lepidus subsp. medius Detling',\n",
       "  'timestamp_unix': 1581932823,\n",
       "  'lastupdate_unix': 1581932766,\n",
       "  'Barcode': '00003285',\n",
       "  'specimen_guid': 'http://n2t.net/ark:/65665/364d97b4b-ef11-4320-9248-0ee9fa97d0d8',\n",
       "  'media_count': 1.0,\n",
       "  'USNM Number': '2054999',\n",
       "  'Other Numbers': 'fiche number : 0394/C05',\n",
       "  'media_guid': 'http://n2t.net/ark:/65665/m3c7cfca2d-0836-412b-86ff-bdf49b573638',\n",
       "  'media_guid_list': 'http://n2t.net/ark:/65665/m3c7cfca2d-0836-412b-86ff-bdf49b573638',\n",
       "  'media_aws_id_list': 'NMNH-00003285-000001',\n",
       "  'aws_media_count': 1.0,\n",
       "  'timestamp_dt': Timestamp('2020-02-17 09:47:03'),\n",
       "  'lastupdate_dt': Timestamp('2020-02-17 09:46:06')},\n",
       " {'edan_id': 'edanmdm-nmnhbotany_2096410',\n",
       "  'title': 'Piscidia grandifolia var. gentryi Rudd',\n",
       "  'timestamp_unix': 1581932823,\n",
       "  'lastupdate_unix': 1581932766,\n",
       "  'Barcode': '00004336',\n",
       "  'specimen_guid': 'http://n2t.net/ark:/65665/33ee2eb29-6b40-46d6-9707-d1aad7f740e9',\n",
       "  'media_count': 1.0,\n",
       "  'USNM Number': '2451068',\n",
       "  'Other Numbers': 'fiche number : 0426/A05',\n",
       "  'media_guid': 'http://n2t.net/ark:/65665/m3f872b9fa-f6ed-41d2-a0e2-5f5933017661',\n",
       "  'media_guid_list': 'http://n2t.net/ark:/65665/m3f872b9fa-f6ed-41d2-a0e2-5f5933017661',\n",
       "  'media_aws_id_list': 'NMNH-00004336',\n",
       "  'aws_media_count': 1.0,\n",
       "  'timestamp_dt': Timestamp('2020-02-17 09:47:03'),\n",
       "  'lastupdate_dt': Timestamp('2020-02-17 09:46:06')},\n",
       " {'edan_id': 'edanmdm-nmnhbotany_2133154',\n",
       "  'title': 'Erythrina corallodendron var. bicolor Krukoff',\n",
       "  'timestamp_unix': 1581932823,\n",
       "  'lastupdate_unix': 1581932766,\n",
       "  'Barcode': '00004480',\n",
       "  'specimen_guid': 'http://n2t.net/ark:/65665/33b1074c3-1ebd-48e5-a2a3-3d4b42f93aef',\n",
       "  'media_count': 1.0,\n",
       "  'USNM Number': '695477',\n",
       "  'Other Numbers': 'fiche number : 0428/B07',\n",
       "  'media_guid': 'http://n2t.net/ark:/65665/m3a8bad5dc-5bee-4f7d-b452-7b2ea50b21d2',\n",
       "  'media_guid_list': 'http://n2t.net/ark:/65665/m3a8bad5dc-5bee-4f7d-b452-7b2ea50b21d2',\n",
       "  'media_aws_id_list': 'NMNH-00004480-000001',\n",
       "  'aws_media_count': 1.0,\n",
       "  'timestamp_dt': Timestamp('2020-02-17 09:47:03'),\n",
       "  'lastupdate_dt': Timestamp('2020-02-17 09:46:06')},\n",
       " {'edan_id': 'edanmdm-nmnhbotany_2094665',\n",
       "  'title': 'Galactia stenophylla Urb.',\n",
       "  'timestamp_unix': 1581932823,\n",
       "  'lastupdate_unix': 1581932767,\n",
       "  'Barcode': '00004589',\n",
       "  'specimen_guid': 'http://n2t.net/ark:/65665/3a5cfac48-e317-49de-bb8f-b814e5d48417',\n",
       "  'media_count': 1.0,\n",
       "  'USNM Number': '47415',\n",
       "  'Other Numbers': 'fiche number : 0430/A09',\n",
       "  'media_guid': 'http://n2t.net/ark:/65665/m30cc27ecd-99e9-4981-a984-66f0eda469b3',\n",
       "  'media_guid_list': 'http://n2t.net/ark:/65665/m30cc27ecd-99e9-4981-a984-66f0eda469b3',\n",
       "  'media_aws_id_list': 'NMNH-00004589',\n",
       "  'aws_media_count': 1.0,\n",
       "  'timestamp_dt': Timestamp('2020-02-17 09:47:03'),\n",
       "  'lastupdate_dt': Timestamp('2020-02-17 09:46:07')},\n",
       " {'edan_id': 'edanmdm-nmnhbotany_2108956',\n",
       "  'title': 'Acacia penonomensis Saff.',\n",
       "  'timestamp_unix': 1581932823,\n",
       "  'lastupdate_unix': 1581932764,\n",
       "  'Barcode': '00000268',\n",
       "  'specimen_guid': 'http://n2t.net/ark:/65665/36563a51d-8105-4cc2-8d6c-dc58b7ae0b0d',\n",
       "  'media_count': 1.0,\n",
       "  'USNM Number': '764673',\n",
       "  'Other Numbers': 'fiche number : 0365/B09',\n",
       "  'media_guid': 'http://n2t.net/ark:/65665/m3787d7d03-40d0-4a58-8485-44819d031436',\n",
       "  'media_guid_list': 'http://n2t.net/ark:/65665/m3787d7d03-40d0-4a58-8485-44819d031436',\n",
       "  'media_aws_id_list': 'NMNH-00000268-000001',\n",
       "  'aws_media_count': 1.0,\n",
       "  'timestamp_dt': Timestamp('2020-02-17 09:47:03'),\n",
       "  'lastupdate_dt': Timestamp('2020-02-17 09:46:04')}]"
      ]
     },
     "execution_count": 17,
     "metadata": {},
     "output_type": "execute_result"
    }
   ],
   "source": [
    "botany_df[pd.notnull(botany_df['media_count'])].sort_values('timestamp_unix', ascending=False).tail().to_dict(orient='records')"
   ]
  },
  {
   "cell_type": "code",
   "execution_count": 17,
   "metadata": {
    "ExecuteTime": {
     "end_time": "2021-06-04T18:15:34.658465Z",
     "start_time": "2021-06-04T18:15:32.904165Z"
    }
   },
   "outputs": [
    {
     "data": {
      "text/plain": [
       "[{'edan_id': 'edanmdm-nmnhbotany_10335133',\n",
       "  'title': 'Merostachys sp.',\n",
       "  'timestamp_unix': 1601974850,\n",
       "  'lastupdate_unix': 1601974838,\n",
       "  'Barcode': nan,\n",
       "  'specimen_guid': 'http://n2t.net/ark:/65665/35da0f2cd-5e92-411a-8013-d4d5737229d8',\n",
       "  'media_count': 19.0,\n",
       "  'media_guid': 'http://n2t.net/ark:/65665/m36506b79a-5c03-407a-bb13-fa5c80169a6b',\n",
       "  'media_guid_list': 'http://n2t.net/ark:/65665/m36506b79a-5c03-407a-bb13-fa5c80169a6b;http://n2t.net/ark:/65665/m35a5cbe4c-3d33-4a8d-ac16-181c1fa957f8;http://n2t.net/ark:/65665/m3ab587aa9-7a6a-4d12-ad5b-d2fb4f39682e;http://n2t.net/ark:/65665/m3474324a5-7662-4cb5-bb4f-296c60ce33b8;http://n2t.net/ark:/65665/m3b4646c56-f856-4639-994b-b8879089761f;http://n2t.net/ark:/65665/m3027269b8-826d-4387-a198-7d2ed304ef33;http://n2t.net/ark:/65665/m35558fadf-4363-4005-9b4a-e8d58911441f;http://n2t.net/ark:/65665/m319f86801-ef0d-4819-ac79-4dca2c0fc537;http://n2t.net/ark:/65665/m31c76bbe4-afcd-4a39-866e-c71ec90d0657;http://n2t.net/ark:/65665/m3e84e46f0-bdea-4e72-a3d2-d25be7738c75;http://n2t.net/ark:/65665/m3453707c9-00c1-46aa-8bda-4c0e3fb137b7;http://n2t.net/ark:/65665/m32508e439-bb38-49b8-8c8f-5f8534377312;http://n2t.net/ark:/65665/m364c99020-df68-47f4-bb17-541a44e59884;http://n2t.net/ark:/65665/m3b2eb68e6-d98c-49cd-a0a3-861a61da07fd;http://n2t.net/ark:/65665/m38ad77237-8fff-4d24-a4ad-358bf921841f;http://n2t.net/ark:/65665/m3a7139c07-4a5d-4234-b3ae-075a9ac9e865;http://n2t.net/ark:/65665/m36dd2e96d-c435-4f0a-a0f6-24d424f69506;http://n2t.net/ark:/65665/m3394560cc-c2dd-4e2c-a71d-2ef6fe2fcf94;http://n2t.net/ark:/65665/m35ed09409-4bb8-44d9-9e50-db5a3c2848da',\n",
       "  'media_aws_id_list': 'NMNH-E2-12;NMNH-E5-08;NMNH-F2-06;NMNH-F4-02;NMNH-F5-03;NMNH-F5-09;NMNH-F11-10;NMNH-F15-14;NMNH-F16-08;NMNH-F18-05;NMNH-F25-01;NMNH-F25-12;NMNH-F27-04;NMNH-F27-09;NMNH-F27-17;NMNH-F28-09;NMNH-N1-13;NMNH-P2-09;NMNH-P2-13',\n",
       "  'aws_media_count': 19.0,\n",
       "  'USNM Number': nan,\n",
       "  'Other Numbers': nan,\n",
       "  'timestamp_dt': Timestamp('2020-10-06 09:00:50'),\n",
       "  'lastupdate_dt': Timestamp('2020-10-06 09:00:38')},\n",
       " {'edan_id': 'edanmdm-nmnhbotany_2088855',\n",
       "  'title': 'Lecanora oleae Reichert & Galun',\n",
       "  'timestamp_unix': 1581932841,\n",
       "  'lastupdate_unix': 1581932804,\n",
       "  'Barcode': '00068448',\n",
       "  'specimen_guid': 'http://n2t.net/ark:/65665/30297575a-6eb5-41c9-9fa6-cadc27fb6352',\n",
       "  'media_count': 16.0,\n",
       "  'media_guid': 'http://n2t.net/ark:/65665/m30c58dfd4-7e84-4241-be22-11564cbe5b8d',\n",
       "  'media_guid_list': 'http://n2t.net/ark:/65665/m30c58dfd4-7e84-4241-be22-11564cbe5b8d;http://n2t.net/ark:/65665/m3f692479c-f032-4e97-8ac9-551655b89023;http://n2t.net/ark:/65665/m330fc3046-2dd3-4f1b-ab62-75708b97307a;http://n2t.net/ark:/65665/m3f7b5b7f5-3bea-4505-8533-5c684d667835;http://n2t.net/ark:/65665/m3840d8d55-f422-4dbe-8cb0-a93737ec1609;http://n2t.net/ark:/65665/m3cdbfe868-3ab2-4d12-bed7-5b5e146e8d57;http://n2t.net/ark:/65665/m396c9c3b5-a3b2-4553-b5d2-458b93582e7d;http://n2t.net/ark:/65665/m338598a6c-8f15-4f46-91d0-9248b3e795ab;http://n2t.net/ark:/65665/m30e8af430-3094-4564-a63d-dbaf13f999a6;http://n2t.net/ark:/65665/m332d00f5e-55c8-47f5-8593-a4a52ef30a45;http://n2t.net/ark:/65665/m37122f2fe-7ebb-400f-8b42-7ed4f55bf67b;http://n2t.net/ark:/65665/m31f5b5c6e-d935-4c51-97b6-ea5bd4cfc2e0;http://n2t.net/ark:/65665/m32834b211-cee5-4a17-a3d0-e19cd0d02650;http://n2t.net/ark:/65665/m369b356db-ea9e-4d5f-9409-0b78dde2f0b4;http://n2t.net/ark:/65665/m39f92a16e-7dcd-41d9-bfa3-170185b24be0;http://n2t.net/ark:/65665/m3fbc6f52d-d863-4588-befe-97058acd1377',\n",
       "  'media_aws_id_list': 'NMNH-00068448;NMNH-00068448_02;NMNH-00068448_03;NMNH-00068448_04;NMNH-00068448_05;NMNH-00068448_06;NMNH-00068448_02-000002;NMNH-00068448_03-000002;NMNH-00068448_04-000002;NMNH-00068448_05-000002;NMNH-00068448_06-000002;NMNH-00068448_02-000001;NMNH-00068448_03-000001;NMNH-00068448_04-000001;NMNH-00068448_05-000001;NMNH-00068448_06-000001',\n",
       "  'aws_media_count': 16.0,\n",
       "  'USNM Number': nan,\n",
       "  'Other Numbers': nan,\n",
       "  'timestamp_dt': Timestamp('2020-02-17 09:47:21'),\n",
       "  'lastupdate_dt': Timestamp('2020-02-17 09:46:44')},\n",
       " {'edan_id': 'edanmdm-nmnhbotany_2094403',\n",
       "  'title': 'Lecanora sienae B. de Lesd.',\n",
       "  'timestamp_unix': 1581933155,\n",
       "  'lastupdate_unix': 1581933116,\n",
       "  'Barcode': '00344944',\n",
       "  'specimen_guid': 'http://n2t.net/ark:/65665/31bd504a4-8b12-4446-9076-24b95e290bfd',\n",
       "  'media_count': 16.0,\n",
       "  'media_guid': 'http://n2t.net/ark:/65665/m303eda9e1-8599-4647-8c02-790d8d647396',\n",
       "  'media_guid_list': 'http://n2t.net/ark:/65665/m303eda9e1-8599-4647-8c02-790d8d647396;http://n2t.net/ark:/65665/m3bb51b35e-670b-4276-b1ab-b9dca4f4ea46;http://n2t.net/ark:/65665/m3f6168b29-1813-419a-90c1-c180ce4491f7;http://n2t.net/ark:/65665/m3e4e78d9e-a218-4866-9031-3c52a0dfd464;http://n2t.net/ark:/65665/m31542c360-d17f-4839-9a7a-ed6236012b62;http://n2t.net/ark:/65665/m38216abe7-07dd-46da-bd9d-76e598405edf;http://n2t.net/ark:/65665/m3cd6e63d7-81a3-4fbb-82b1-d7e9d0960b09;http://n2t.net/ark:/65665/m373fb5c4b-4ff5-4aa1-9c76-106afde21c03;http://n2t.net/ark:/65665/m3ee039ef1-0ae1-4bf8-b335-323b3555468a;http://n2t.net/ark:/65665/m3b147ff9e-8fdb-4c03-9a01-7e6d62740e25;http://n2t.net/ark:/65665/m3968ebb33-8041-445a-b814-2b204bdbc620;http://n2t.net/ark:/65665/m3e23a2bca-fbe4-4f42-8e2c-1a573998066d;http://n2t.net/ark:/65665/m3cd351f89-e11a-48f9-b645-f5e6b1ec0eaf;http://n2t.net/ark:/65665/m30eeedc2d-7c66-4e72-b97b-ba82b4365bb3;http://n2t.net/ark:/65665/m3e1367926-b788-4963-92b7-fd14c1e74cdd;http://n2t.net/ark:/65665/m3691f6143-98b3-4d95-ac47-e68fba025190',\n",
       "  'media_aws_id_list': 'NMNH-00344944;NMNH-00344944_02;NMNH-00344944_03;NMNH-00344944_04;NMNH-00344944_05;NMNH-00344944_02-000002;NMNH-00344944_03-000002;NMNH-00344944_04-000002;NMNH-00344944_05-000002;NMNH-00344944_02-000001;NMNH-00344944_03-000001;NMNH-00344944_04-000001;NMNH-00344944_05-000001;NMNH-00344944_02-000003;NMNH-00344944_03-000003;NMNH-00344944_04-000003',\n",
       "  'aws_media_count': 16.0,\n",
       "  'USNM Number': nan,\n",
       "  'Other Numbers': nan,\n",
       "  'timestamp_dt': Timestamp('2020-02-17 09:52:35'),\n",
       "  'lastupdate_dt': Timestamp('2020-02-17 09:51:56')},\n",
       " {'edan_id': 'edanmdm-nmnhbotany_12980459',\n",
       "  'title': 'Cobaea scandens Cav.',\n",
       "  'timestamp_unix': 1586856011,\n",
       "  'lastupdate_unix': 1586856005,\n",
       "  'Barcode': nan,\n",
       "  'specimen_guid': 'http://n2t.net/ark:/65665/3dd440293-dbee-4950-b76b-3c1c1ccea824',\n",
       "  'media_count': 12.0,\n",
       "  'media_guid': 'http://n2t.net/ark:/65665/m33bec02a6-d054-4849-9a2d-3088e162499b',\n",
       "  'media_guid_list': 'http://n2t.net/ark:/65665/m33bec02a6-d054-4849-9a2d-3088e162499b;http://n2t.net/ark:/65665/m37f0f9bcb-6dae-4daf-849a-e39dc4d10feb;http://n2t.net/ark:/65665/m37a10edd9-7939-4cc6-8506-7e3ffd9967fb;http://n2t.net/ark:/65665/m3c716fa4b-ee87-46ed-93a2-bdec99d12ad4;http://n2t.net/ark:/65665/m393ec0ec2-a215-49a3-a806-af34c2014386;http://n2t.net/ark:/65665/m3634375b6-ce25-4d53-b31e-392b5ea53474;http://n2t.net/ark:/65665/m332af1813-3cbb-4e41-821f-d94fb73b74c5;http://n2t.net/ark:/65665/m3eae256d3-8366-4169-a9bd-0cef04c2b65d;http://n2t.net/ark:/65665/m3f3f627c7-8a07-485a-acd7-c69a7902d39b;http://n2t.net/ark:/65665/m3f231bb0c-f66f-4532-8171-b1b405ac1e44;http://n2t.net/ark:/65665/m395ea71e5-feee-4459-876c-566f0dce137e;http://n2t.net/ark:/65665/m3da40c9fa-f943-4474-baf8-50620a45c5dc',\n",
       "  'media_aws_id_list': 'NMNH-Acevedo164039;NMNH-Acevedo1640311-000001;NMNH-Acevedo1640312-000001;NMNH-Acevedo1640313-000001;NMNH-Acevedo1640314-000001;NMNH-Acevedo1640316-000001;NMNH-Acevedo164032-000002;NMNH-Acevedo164033-000002;NMNH-Acevedo164034-000002;NMNH-Acevedo164035-000001;NMNH-Acevedo164036-000001;NMNH-Acevedo164037-000001',\n",
       "  'aws_media_count': 12.0,\n",
       "  'USNM Number': nan,\n",
       "  'Other Numbers': nan,\n",
       "  'timestamp_dt': Timestamp('2020-04-14 09:20:11'),\n",
       "  'lastupdate_dt': Timestamp('2020-04-14 09:20:05')},\n",
       " {'edan_id': 'edanmdm-nmnhbotany_13927549',\n",
       "  'title': 'Callaeum psilophyllum (A. Juss.) D.M. Johnson',\n",
       "  'timestamp_unix': 1618320389,\n",
       "  'lastupdate_unix': 1618320389,\n",
       "  'Barcode': nan,\n",
       "  'specimen_guid': 'http://n2t.net/ark:/65665/344f69bf1-6ac3-4caf-82a0-3e6b78273073',\n",
       "  'media_count': 11.0,\n",
       "  'media_guid': 'http://n2t.net/ark:/65665/m3120ba24f-1629-414a-90ed-ea124dea5e00',\n",
       "  'media_guid_list': 'http://n2t.net/ark:/65665/m3120ba24f-1629-414a-90ed-ea124dea5e00;http://n2t.net/ark:/65665/m3f051482f-1c76-42b7-8e0b-fa7e990ee508;http://n2t.net/ark:/65665/m3d56e3b03-3f78-4c22-8086-005ffa30946d;http://n2t.net/ark:/65665/m31c0687be-c978-4cc8-8ee0-95b0297104c4;http://n2t.net/ark:/65665/m3800656b8-954c-4e38-bb56-c01088f15be3;http://n2t.net/ark:/65665/m3703d6553-8956-42da-b227-e546d93999bf;http://n2t.net/ark:/65665/m3beb6d390-ea7e-4999-836f-7a3c1cbc1e85;http://n2t.net/ark:/65665/m35e0ec07b-ead6-4313-aee0-071d031c7e66;http://n2t.net/ark:/65665/m3d92c6410-3dd1-4752-894f-e9cbfeb6c51f;http://n2t.net/ark:/65665/m30aa61296-0290-4745-b4ee-ff4f8b805d9e;http://n2t.net/ark:/65665/m3217d2908-08fb-4cf0-b8b3-23b62c48562e',\n",
       "  'media_aws_id_list': 'NMNH-Acevedo167678;NMNH-Acevedo1676713-000001;NMNH-Acevedo1676714-000001;NMNH-Acevedo1676715-000002;NMNH-Acevedo1676716-000001;NMNH-Acevedo1676717-000001;NMNH-Acevedo1676718-000001;NMNH-Acevedo1676719-000001;NMNH-Acevedo167672-000001;NMNH-Acevedo167673-000001;NMNH-Acevedo167674-000001',\n",
       "  'aws_media_count': 11.0,\n",
       "  'USNM Number': nan,\n",
       "  'Other Numbers': nan,\n",
       "  'timestamp_dt': Timestamp('2021-04-13 13:26:29'),\n",
       "  'lastupdate_dt': Timestamp('2021-04-13 13:26:29')}]"
      ]
     },
     "execution_count": 17,
     "metadata": {},
     "output_type": "execute_result"
    }
   ],
   "source": [
    "botany_df.sort_values('aws_media_count', ascending=False).head().to_dict(orient='records')"
   ]
  },
  {
   "cell_type": "code",
   "execution_count": 18,
   "metadata": {
    "ExecuteTime": {
     "end_time": "2021-06-04T18:15:34.743365Z",
     "start_time": "2021-06-04T18:15:34.668049Z"
    }
   },
   "outputs": [
    {
     "name": "stdout",
     "output_type": "stream",
     "text": [
      "2385039.0\n",
      "2554843.0\n"
     ]
    }
   ],
   "source": [
    "print(botany_df['aws_media_count'].sum())\n",
    "print(botany_df['media_count'].sum())"
   ]
  },
  {
   "cell_type": "code",
   "execution_count": null,
   "metadata": {},
   "outputs": [],
   "source": []
  }
 ],
 "metadata": {
  "kernelspec": {
   "display_name": "Python 3",
   "language": "python",
   "name": "python3"
  },
  "language_info": {
   "codemirror_mode": {
    "name": "ipython",
    "version": 3
   },
   "file_extension": ".py",
   "mimetype": "text/x-python",
   "name": "python",
   "nbconvert_exporter": "python",
   "pygments_lexer": "ipython3",
   "version": "3.8.10"
  }
 },
 "nbformat": 4,
 "nbformat_minor": 4
}
